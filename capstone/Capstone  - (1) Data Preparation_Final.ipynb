{
 "cells": [
  {
   "cell_type": "markdown",
   "metadata": {},
   "source": [
    "## Import libraries"
   ]
  },
  {
   "cell_type": "code",
   "execution_count": 1,
   "metadata": {},
   "outputs": [],
   "source": [
    "import pandas as pd\n",
    "import numpy as np\n",
    "%matplotlib inline\n",
    "import glob\n",
    "import os"
   ]
  },
  {
   "cell_type": "markdown",
   "metadata": {},
   "source": [
    "### Import Data - Random Sampling (n=5000 per year between Y2015 - Y2017)"
   ]
  },
  {
   "cell_type": "code",
   "execution_count": 5,
   "metadata": {},
   "outputs": [
    {
     "name": "stderr",
     "output_type": "stream",
     "text": [
      "C:\\Users\\Serene\\Anaconda3\\lib\\site-packages\\IPython\\core\\interactiveshell.py:3020: DtypeWarning: Columns (10) have mixed types. Specify dtype option on import or set low_memory=False.\n",
      "  interactivity=interactivity, compiler=compiler, result=result)\n"
     ]
    }
   ],
   "source": [
    "data_PartB = pd.read_csv('./dataset2/PartB/Medicare_Provider_Util_Payment_PUF_CY2015.txt', sep='\\t')\n",
    "idxs_PartB = np.random.choice(data_PartB.shape[0], size=50000, replace=False)\n",
    "data_PartB = data_PartB.iloc[idxs_PartB]\n",
    "data_PartB.to_csv(r'./dataset2/PartB/data_PartB_2015v2.csv')"
   ]
  },
  {
   "cell_type": "code",
   "execution_count": 6,
   "metadata": {},
   "outputs": [],
   "source": [
    "#del data_PartB"
   ]
  },
  {
   "cell_type": "markdown",
   "metadata": {},
   "source": [
    "### Combined all CSV for LEIE Dataset"
   ]
  },
  {
   "cell_type": "code",
   "execution_count": 9,
   "metadata": {},
   "outputs": [],
   "source": [
    "#os.chdir(\"./dataset2/LEIE_Dataset\")\n",
    "#extension = 'csv'\n",
    "#all_filenames = [i for i in glob.glob('*.{}'.format(extension))]\n",
    "##combine all files in the list\n",
    "#combined_csv = pd.concat([pd.read_csv(f) for f in all_filenames ])\n",
    "##export to csv\n",
    "#combined_csv.to_csv( \"LEIE_2018.csv\", index=False, encoding='utf-8-sig')"
   ]
  },
  {
   "cell_type": "markdown",
   "metadata": {},
   "source": [
    "### Combined all CSV for respective Dataset"
   ]
  },
  {
   "cell_type": "code",
   "execution_count": 11,
   "metadata": {},
   "outputs": [],
   "source": [
    "#os.chdir(\"./dataset2/PartB\")\n",
    "#extension = 'csv'\n",
    "#all_filenames = [i for i in glob.glob('*.{}'.format(extension))]\n",
    "##combine all files in the list\n",
    "#combined_csv = pd.concat([pd.read_csv(f) for f in all_filenames ])\n",
    "##export to csv\n",
    "#combined_csv.to_csv( \"PartB.csv\", index=False, encoding='utf-8-sig')"
   ]
  },
  {
   "cell_type": "markdown",
   "metadata": {},
   "source": [
    "### Read Dataset"
   ]
  },
  {
   "cell_type": "code",
   "execution_count": 13,
   "metadata": {},
   "outputs": [
    {
     "name": "stderr",
     "output_type": "stream",
     "text": [
      "C:\\Users\\Serene\\Anaconda3\\lib\\site-packages\\IPython\\core\\interactiveshell.py:3020: DtypeWarning: Columns (24) have mixed types. Specify dtype option on import or set low_memory=False.\n",
      "  interactivity=interactivity, compiler=compiler, result=result)\n",
      "C:\\Users\\Serene\\Anaconda3\\lib\\site-packages\\IPython\\core\\interactiveshell.py:3020: DtypeWarning: Columns (12) have mixed types. Specify dtype option on import or set low_memory=False.\n",
      "  interactivity=interactivity, compiler=compiler, result=result)\n"
     ]
    }
   ],
   "source": [
    "LEIE = pd.read_csv('./dataset2/LEIE_2018.csv') #contains physicians who are unsuited to practice medicine \n",
    "PartB = pd.read_csv('./dataset2/PartB.csv') #provides information on services and procedures provided to Medicare beneficiaries by physicians and other healthcare professionals  "
   ]
  },
  {
   "cell_type": "code",
   "execution_count": 14,
   "metadata": {},
   "outputs": [
    {
     "name": "stdout",
     "output_type": "stream",
     "text": [
      "Shape of LEIE : (2509, 18)\n",
      "Shape of PartB : (150000, 27)\n",
      "Shape of PartD : (150000, 22)\n",
      "Shape of DMEPOS : (150000, 29)\n"
     ]
    }
   ],
   "source": [
    "## Lets Check Shape of datasets \n",
    "print('Shape of LEIE :',LEIE.shape)\n",
    "print('Shape of PartB :', PartB.shape)"
   ]
  },
  {
   "cell_type": "code",
   "execution_count": 15,
   "metadata": {},
   "outputs": [],
   "source": [
    "#change column names to lower case\n",
    "LEIE.columns = map(str.lower, LEIE.columns)\n",
    "PartB.columns = map(str.lower, PartB.columns)"
   ]
  },
  {
   "cell_type": "code",
   "execution_count": 16,
   "metadata": {},
   "outputs": [],
   "source": [
    "#exclusion due to fraud\n",
    "LEIE = LEIE[(LEIE.excltype == \"1128a1\") |(LEIE.excltype == \"1128a2\") | (LEIE.excltype == \"1128a3\") | (LEIE.excltype == \"1128b4\")| (LEIE.excltype == \"1128b1\") | (LEIE.excltype == \"1128b7\")]"
   ]
  },
  {
   "cell_type": "code",
   "execution_count": 17,
   "metadata": {},
   "outputs": [
    {
     "data": {
      "text/plain": [
       "Index(['lastname', 'firstname', 'midname', 'busname', 'general', 'specialty',\n",
       "       'upin', 'npi', 'dob', 'address', 'city', 'state', 'zip', 'excltype',\n",
       "       'excldate', 'reindate', 'waiverdate', 'wvrstate'],\n",
       "      dtype='object')"
      ]
     },
     "execution_count": 17,
     "metadata": {},
     "output_type": "execute_result"
    }
   ],
   "source": [
    "LEIE.columns"
   ]
  },
  {
   "cell_type": "code",
   "execution_count": 18,
   "metadata": {},
   "outputs": [],
   "source": [
    "#drop invalid npi\n",
    "LEIE = LEIE[LEIE.npi != 0]"
   ]
  },
  {
   "cell_type": "code",
   "execution_count": 19,
   "metadata": {},
   "outputs": [],
   "source": [
    "LEIE[\"fraud\"] = 1"
   ]
  },
  {
   "cell_type": "code",
   "execution_count": 20,
   "metadata": {},
   "outputs": [],
   "source": [
    "#drop provider-related information that are not likely to contribute to fraud detection. \n",
    "LEIE = LEIE.drop(['lastname', 'firstname', 'midname', 'busname', 'general', 'specialty',\n",
    "       'upin', 'dob', 'address', 'city', 'state', 'zip',\n",
    "       'excldate', 'reindate', 'waiverdate', 'wvrstate','excltype'],axis=1)"
   ]
  },
  {
   "cell_type": "markdown",
   "metadata": {},
   "source": [
    "###  MERGE PART B & LEIE"
   ]
  },
  {
   "cell_type": "code",
   "execution_count": 21,
   "metadata": {},
   "outputs": [],
   "source": [
    "Combined_B = pd.merge(PartB, LEIE, on='npi', how='left')"
   ]
  },
  {
   "cell_type": "code",
   "execution_count": 22,
   "metadata": {},
   "outputs": [],
   "source": [
    "#medicare_participation_indicator - drop records that did not participate in medicare\n",
    "Combined_B = Combined_B[Combined_B.medicare_participation_indicator != \"N\"]"
   ]
  },
  {
   "cell_type": "code",
   "execution_count": 23,
   "metadata": {},
   "outputs": [],
   "source": [
    "#drop provider-related information and redundant variables that are not likely to contribute to fraud detection. \n",
    "Combined_B = Combined_B.drop(['unnamed: 0', \"medicare_participation_indicator\",\n",
    "       'nppes_credentials', 'nppes_entity_code', \"hcpcs_description\", 'hcpcs_description', 'hcpcs_code',\n",
    "        'nppes_provider_country', 'nppes_provider_first_name', 'nppes_provider_last_org_name',\n",
    "       'nppes_provider_mi', 'nppes_provider_street1','nppes_provider_city','nppes_provider_state',\n",
    "       'nppes_provider_street2', 'nppes_provider_zip', 'place_of_service'],axis=1)"
   ]
  },
  {
   "cell_type": "code",
   "execution_count": 24,
   "metadata": {
    "scrolled": true
   },
   "outputs": [
    {
     "data": {
      "text/plain": [
       "Index(['average_medicare_allowed_amt', 'average_medicare_payment_amt',\n",
       "       'average_medicare_standard_amt', 'average_submitted_chrg_amt',\n",
       "       'bene_day_srvc_cnt', 'bene_unique_cnt', 'hcpcs_drug_indicator',\n",
       "       'line_srvc_cnt', 'npi', 'nppes_provider_gender', 'provider_type',\n",
       "       'fraud'],\n",
       "      dtype='object')"
      ]
     },
     "execution_count": 24,
     "metadata": {},
     "output_type": "execute_result"
    }
   ],
   "source": [
    "Combined_B.columns"
   ]
  },
  {
   "cell_type": "code",
   "execution_count": 25,
   "metadata": {},
   "outputs": [
    {
     "name": "stdout",
     "output_type": "stream",
     "text": [
      "<class 'pandas.core.frame.DataFrame'>\n",
      "Int64Index: 149946 entries, 0 to 149999\n",
      "Data columns (total 12 columns):\n",
      "average_medicare_allowed_amt     149946 non-null float64\n",
      "average_medicare_payment_amt     149946 non-null float64\n",
      "average_medicare_standard_amt    149946 non-null float64\n",
      "average_submitted_chrg_amt       149946 non-null float64\n",
      "bene_day_srvc_cnt                149946 non-null int64\n",
      "bene_unique_cnt                  149946 non-null int64\n",
      "hcpcs_drug_indicator             149946 non-null object\n",
      "line_srvc_cnt                    149946 non-null float64\n",
      "npi                              149946 non-null int64\n",
      "nppes_provider_gender            143361 non-null object\n",
      "provider_type                    149946 non-null object\n",
      "fraud                            14 non-null float64\n",
      "dtypes: float64(6), int64(3), object(3)\n",
      "memory usage: 14.9+ MB\n"
     ]
    }
   ],
   "source": [
    "Combined_B.info()"
   ]
  },
  {
   "cell_type": "code",
   "execution_count": 26,
   "metadata": {},
   "outputs": [],
   "source": [
    "#filling null values\n",
    "Combined_B[\"nppes_provider_gender\"].fillna(\"NA\", inplace=True)\n",
    "Combined_B[\"fraud\"].fillna(0, inplace=True)"
   ]
  },
  {
   "cell_type": "code",
   "execution_count": 27,
   "metadata": {
    "scrolled": true
   },
   "outputs": [
    {
     "name": "stdout",
     "output_type": "stream",
     "text": [
      "<class 'pandas.core.frame.DataFrame'>\n",
      "Int64Index: 149946 entries, 0 to 149999\n",
      "Data columns (total 12 columns):\n",
      "average_medicare_allowed_amt     149946 non-null float64\n",
      "average_medicare_payment_amt     149946 non-null float64\n",
      "average_medicare_standard_amt    149946 non-null float64\n",
      "average_submitted_chrg_amt       149946 non-null float64\n",
      "bene_day_srvc_cnt                149946 non-null int64\n",
      "bene_unique_cnt                  149946 non-null int64\n",
      "hcpcs_drug_indicator             149946 non-null object\n",
      "line_srvc_cnt                    149946 non-null float64\n",
      "npi                              149946 non-null int64\n",
      "nppes_provider_gender            149946 non-null object\n",
      "provider_type                    149946 non-null object\n",
      "fraud                            149946 non-null float64\n",
      "dtypes: float64(6), int64(3), object(3)\n",
      "memory usage: 14.9+ MB\n"
     ]
    }
   ],
   "source": [
    "Combined_B.info()"
   ]
  },
  {
   "cell_type": "code",
   "execution_count": 28,
   "metadata": {},
   "outputs": [],
   "source": [
    "Combined_B.to_csv(\"Combined_B_2017v3\", encoding='utf-8-sig')"
   ]
  }
 ],
 "metadata": {
  "kernelspec": {
   "display_name": "Python 3",
   "language": "python",
   "name": "python3"
  },
  "language_info": {
   "codemirror_mode": {
    "name": "ipython",
    "version": 3
   },
   "file_extension": ".py",
   "mimetype": "text/x-python",
   "name": "python",
   "nbconvert_exporter": "python",
   "pygments_lexer": "ipython3",
   "version": "3.7.1"
  }
 },
 "nbformat": 4,
 "nbformat_minor": 2
}
