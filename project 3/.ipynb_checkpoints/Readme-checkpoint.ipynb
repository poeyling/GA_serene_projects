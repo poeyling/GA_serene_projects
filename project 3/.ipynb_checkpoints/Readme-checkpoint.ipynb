{
 "cells": [
  {
   "cell_type": "markdown",
   "metadata": {},
   "source": [
    "## Project 3"
   ]
  },
  {
   "cell_type": "markdown",
   "metadata": {},
   "source": [
    "### PROBLEM STATEMENT"
   ]
  },
  {
   "cell_type": "markdown",
   "metadata": {},
   "source": [
    "Reddit is one of the most popular sites on the internet. The reason for the popularity is due to the fact that it was one of the first sites to aggregate content on the internet and user (known as Redditors) could submit links to the site in a forum like discussion groups called sub-reddits.  The CEO of Reddit realizes that Reddit users are increasingly using the platform to gather health-related information, share their personal experiences about diseases or interact with others with similar condition in communications. This, in turn, provides a platform for healthcare providers to better understand the needs of patients and caregivers, which is a business opportunity for Reddit. With the ultimate goal to better position Reddit for such business opportunties, the CEO of Reddit has appointed us to develop model(s) that can classify posts on Reddit more accurately, particularly for medical conditions."
   ]
  },
  {
   "cell_type": "markdown",
   "metadata": {},
   "source": [
    "### DATA COLLECTION"
   ]
  },
  {
   "cell_type": "markdown",
   "metadata": {},
   "source": [
    "Considering that pharmacetical companies are investing heavily on diabetes and oncology, these two diseases are choosen for the purpose of this project. Diabetes and cancer have its own subreddits on Reddit, that garner 40.9k and 26.3k members respectively. We scrapped the 1000 postings between 18.7.2019 to 19.7.2019 (past 1 year) in these subreddits respectively. This gave us a total of 2000 postings before data cleaning. \n",
    "\n",
    "We customized a function called url_prep to scrap both URLs. \n",
    "Also we found a URL format to use so that we do not have to perform looping for numerous requests."
   ]
  },
  {
   "cell_type": "markdown",
   "metadata": {},
   "source": [
    "### DATA CLEANING AND EDA"
   ]
  },
  {
   "cell_type": "markdown",
   "metadata": {},
   "source": [
    "<br>Items that we cleaned:</br>\n",
    "- Posts/titles that are not in English.\n",
    "- Posts that have no written content. \n",
    "- Posts that have less than 10 words.\n",
    "- Unneccessary punctuations. \n",
    "- Combined the data from both subreddit, and reset the index."
   ]
  },
  {
   "cell_type": "markdown",
   "metadata": {},
   "source": [
    "### PREPROCESSING & MODELING"
   ]
  },
  {
   "cell_type": "markdown",
   "metadata": {},
   "source": [
    "- We engineered a feature to turn `subreddit types` into a 1/0 column, where 1 indicates `diabetes`.\n",
    "- We train-test split the data\n",
    "- We created a function for model evaluation to tabulate the confusion matrix, as well as F1 score.\n",
    "- We used GridSearchCV to optimize our models (Linear Regression and Bayes MultinomialNB).\n",
    "- We also used pipeline to simplify the modelling process. \n",
    "- MultinomialNB was choosen because we are doing classification with discrete features; we have word counts for text classification with the help of countvectorizer/tfidfvectorizer. Our results shows that Multinomial Naive Bayes model wtih cvec performs slightly better than the one with tvec - which doesnt align with our expectation as we thought that the model with tfidvec would perform better as it takes into consideration of the freqency of the word in the data.  "
   ]
  },
  {
   "cell_type": "markdown",
   "metadata": {},
   "source": [
    "### RESULT"
   ]
  },
  {
   "cell_type": "markdown",
   "metadata": {},
   "source": [
    "- F1 score - Logistic regression with cvec 0.8490028490028491\n",
    "- F1 score - Multinomial Naive Bayes model wtih cvec 0.8563049853372434\n",
    "- F1 score - Multinomial Naive Bayes model with Tfid  0.8538011695906432"
   ]
  },
  {
   "cell_type": "markdown",
   "metadata": {},
   "source": [
    "### CONCLUSION & RECOMENDATION"
   ]
  },
  {
   "cell_type": "markdown",
   "metadata": {},
   "source": [
    "There are still flaws in the current models where futher optimization is required. \n",
    "We may want to consider using ensemble methods to get the best models to obtain better classification accuracy."
   ]
  }
 ],
 "metadata": {
  "kernelspec": {
   "display_name": "Python 3",
   "language": "python",
   "name": "python3"
  },
  "language_info": {
   "codemirror_mode": {
    "name": "ipython",
    "version": 3
   },
   "file_extension": ".py",
   "mimetype": "text/x-python",
   "name": "python",
   "nbconvert_exporter": "python",
   "pygments_lexer": "ipython3",
   "version": "3.7.3"
  }
 },
 "nbformat": 4,
 "nbformat_minor": 2
}
