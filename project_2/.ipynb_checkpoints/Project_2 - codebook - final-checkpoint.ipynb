{
 "cells": [
  {
   "cell_type": "markdown",
   "metadata": {},
   "source": [
    "# Project 2: Ames Housing Data and Kaggle Challenge"
   ]
  },
  {
   "cell_type": "markdown",
   "metadata": {},
   "source": [
    "## Executive Summary\n",
    "\n",
    "I am  tasked with creating a regression model based on the Ames Housing Dataset. This model will predict the price of a house at sale."
   ]
  },
  {
   "cell_type": "markdown",
   "metadata": {},
   "source": [
    "## Content:\n",
    "\n",
    "- [Import libraries](#import_libraries)\n",
    "- [EDA & Data Cleaning](#EDA)\n",
    "- [Creating Dummies](#Dummies)\n",
    "- [Remove Outliers](#Outliers)\n",
    "- [Features Engineering](#Features)\n",
    "- [Correlation](#Correlation)\n",
    "- [Modelling](#Modelling)\n",
    "- [Conclusions and Recommendations](#Conclusions-and-Recommendations)"
   ]
  },
  {
   "cell_type": "markdown",
   "metadata": {},
   "source": [
    "# Import libraries"
   ]
  },
  {
   "cell_type": "markdown",
   "metadata": {},
   "source": [
    " <a id=\"import_libraries\"></a>"
   ]
  },
  {
   "cell_type": "code",
   "execution_count": 1,
   "metadata": {},
   "outputs": [],
   "source": [
    "#import libraries\n",
    "import numpy as np\n",
    "import scipy.stats as stats\n",
    "import seaborn as sns\n",
    "import matplotlib.pyplot as plt\n",
    "import pandas as pd\n",
    "from sklearn.model_selection import train_test_split, cross_val_score\n",
    "from sklearn import linear_model\n",
    "from sklearn.preprocessing import StandardScaler, PolynomialFeatures\n",
    "from sklearn.metrics import r2_score\n",
    "from sklearn.linear_model import Ridge, Lasso, ElasticNet, LinearRegression, RidgeCV, LassoCV, ElasticNetCV"
   ]
  },
  {
   "cell_type": "markdown",
   "metadata": {},
   "source": [
    " <a id=\"EDA\"></a>"
   ]
  },
  {
   "cell_type": "markdown",
   "metadata": {},
   "source": [
    "# EDA & Data cleaning\n",
    "\n",
    "- Read the data dictionary.\n",
    "- Determine _what_ missing values mean.\n",
    "- Figure out what each categorical value represents.\n",
    "- Identify outliers.\n",
    "- Consider whether discrete values are better represented as categorical or continuous. (Are relationships to the target linear?)\n",
    "- Decide how to impute null values.\n",
    "- Decide how to handle outliers.\n",
    "- Do you want to combine any features?\n",
    "- Do you want to have interaction terms?\n",
    "- Do you want to manually drop collinear features?"
   ]
  },
  {
   "cell_type": "code",
   "execution_count": 2,
   "metadata": {},
   "outputs": [
    {
     "ename": "FileNotFoundError",
     "evalue": "File b'./datasets/train.csv' does not exist",
     "output_type": "error",
     "traceback": [
      "\u001b[1;31m---------------------------------------------------------------------------\u001b[0m",
      "\u001b[1;31mFileNotFoundError\u001b[0m                         Traceback (most recent call last)",
      "\u001b[1;32m<ipython-input-2-2ba8d8ed12a0>\u001b[0m in \u001b[0;36m<module>\u001b[1;34m\u001b[0m\n\u001b[0;32m      1\u001b[0m \u001b[1;31m#import data\u001b[0m\u001b[1;33m\u001b[0m\u001b[1;33m\u001b[0m\u001b[1;33m\u001b[0m\u001b[0m\n\u001b[1;32m----> 2\u001b[1;33m \u001b[0mtrain\u001b[0m \u001b[1;33m=\u001b[0m \u001b[0mpd\u001b[0m\u001b[1;33m.\u001b[0m\u001b[0mread_csv\u001b[0m\u001b[1;33m(\u001b[0m\u001b[1;34m'./datasets/train.csv'\u001b[0m\u001b[1;33m)\u001b[0m\u001b[1;33m\u001b[0m\u001b[1;33m\u001b[0m\u001b[0m\n\u001b[0m\u001b[0;32m      3\u001b[0m \u001b[0mtest\u001b[0m \u001b[1;33m=\u001b[0m \u001b[0mpd\u001b[0m\u001b[1;33m.\u001b[0m\u001b[0mread_csv\u001b[0m\u001b[1;33m(\u001b[0m\u001b[1;34m'./datasets/test.csv'\u001b[0m\u001b[1;33m)\u001b[0m\u001b[1;33m\u001b[0m\u001b[1;33m\u001b[0m\u001b[0m\n",
      "\u001b[1;32m~\\Anaconda3\\lib\\site-packages\\pandas\\io\\parsers.py\u001b[0m in \u001b[0;36mparser_f\u001b[1;34m(filepath_or_buffer, sep, delimiter, header, names, index_col, usecols, squeeze, prefix, mangle_dupe_cols, dtype, engine, converters, true_values, false_values, skipinitialspace, skiprows, nrows, na_values, keep_default_na, na_filter, verbose, skip_blank_lines, parse_dates, infer_datetime_format, keep_date_col, date_parser, dayfirst, iterator, chunksize, compression, thousands, decimal, lineterminator, quotechar, quoting, escapechar, comment, encoding, dialect, tupleize_cols, error_bad_lines, warn_bad_lines, skipfooter, doublequote, delim_whitespace, low_memory, memory_map, float_precision)\u001b[0m\n\u001b[0;32m    676\u001b[0m                     skip_blank_lines=skip_blank_lines)\n\u001b[0;32m    677\u001b[0m \u001b[1;33m\u001b[0m\u001b[0m\n\u001b[1;32m--> 678\u001b[1;33m         \u001b[1;32mreturn\u001b[0m \u001b[0m_read\u001b[0m\u001b[1;33m(\u001b[0m\u001b[0mfilepath_or_buffer\u001b[0m\u001b[1;33m,\u001b[0m \u001b[0mkwds\u001b[0m\u001b[1;33m)\u001b[0m\u001b[1;33m\u001b[0m\u001b[1;33m\u001b[0m\u001b[0m\n\u001b[0m\u001b[0;32m    679\u001b[0m \u001b[1;33m\u001b[0m\u001b[0m\n\u001b[0;32m    680\u001b[0m     \u001b[0mparser_f\u001b[0m\u001b[1;33m.\u001b[0m\u001b[0m__name__\u001b[0m \u001b[1;33m=\u001b[0m \u001b[0mname\u001b[0m\u001b[1;33m\u001b[0m\u001b[1;33m\u001b[0m\u001b[0m\n",
      "\u001b[1;32m~\\Anaconda3\\lib\\site-packages\\pandas\\io\\parsers.py\u001b[0m in \u001b[0;36m_read\u001b[1;34m(filepath_or_buffer, kwds)\u001b[0m\n\u001b[0;32m    438\u001b[0m \u001b[1;33m\u001b[0m\u001b[0m\n\u001b[0;32m    439\u001b[0m     \u001b[1;31m# Create the parser.\u001b[0m\u001b[1;33m\u001b[0m\u001b[1;33m\u001b[0m\u001b[1;33m\u001b[0m\u001b[0m\n\u001b[1;32m--> 440\u001b[1;33m     \u001b[0mparser\u001b[0m \u001b[1;33m=\u001b[0m \u001b[0mTextFileReader\u001b[0m\u001b[1;33m(\u001b[0m\u001b[0mfilepath_or_buffer\u001b[0m\u001b[1;33m,\u001b[0m \u001b[1;33m**\u001b[0m\u001b[0mkwds\u001b[0m\u001b[1;33m)\u001b[0m\u001b[1;33m\u001b[0m\u001b[1;33m\u001b[0m\u001b[0m\n\u001b[0m\u001b[0;32m    441\u001b[0m \u001b[1;33m\u001b[0m\u001b[0m\n\u001b[0;32m    442\u001b[0m     \u001b[1;32mif\u001b[0m \u001b[0mchunksize\u001b[0m \u001b[1;32mor\u001b[0m \u001b[0miterator\u001b[0m\u001b[1;33m:\u001b[0m\u001b[1;33m\u001b[0m\u001b[1;33m\u001b[0m\u001b[0m\n",
      "\u001b[1;32m~\\Anaconda3\\lib\\site-packages\\pandas\\io\\parsers.py\u001b[0m in \u001b[0;36m__init__\u001b[1;34m(self, f, engine, **kwds)\u001b[0m\n\u001b[0;32m    785\u001b[0m             \u001b[0mself\u001b[0m\u001b[1;33m.\u001b[0m\u001b[0moptions\u001b[0m\u001b[1;33m[\u001b[0m\u001b[1;34m'has_index_names'\u001b[0m\u001b[1;33m]\u001b[0m \u001b[1;33m=\u001b[0m \u001b[0mkwds\u001b[0m\u001b[1;33m[\u001b[0m\u001b[1;34m'has_index_names'\u001b[0m\u001b[1;33m]\u001b[0m\u001b[1;33m\u001b[0m\u001b[1;33m\u001b[0m\u001b[0m\n\u001b[0;32m    786\u001b[0m \u001b[1;33m\u001b[0m\u001b[0m\n\u001b[1;32m--> 787\u001b[1;33m         \u001b[0mself\u001b[0m\u001b[1;33m.\u001b[0m\u001b[0m_make_engine\u001b[0m\u001b[1;33m(\u001b[0m\u001b[0mself\u001b[0m\u001b[1;33m.\u001b[0m\u001b[0mengine\u001b[0m\u001b[1;33m)\u001b[0m\u001b[1;33m\u001b[0m\u001b[1;33m\u001b[0m\u001b[0m\n\u001b[0m\u001b[0;32m    788\u001b[0m \u001b[1;33m\u001b[0m\u001b[0m\n\u001b[0;32m    789\u001b[0m     \u001b[1;32mdef\u001b[0m \u001b[0mclose\u001b[0m\u001b[1;33m(\u001b[0m\u001b[0mself\u001b[0m\u001b[1;33m)\u001b[0m\u001b[1;33m:\u001b[0m\u001b[1;33m\u001b[0m\u001b[1;33m\u001b[0m\u001b[0m\n",
      "\u001b[1;32m~\\Anaconda3\\lib\\site-packages\\pandas\\io\\parsers.py\u001b[0m in \u001b[0;36m_make_engine\u001b[1;34m(self, engine)\u001b[0m\n\u001b[0;32m   1012\u001b[0m     \u001b[1;32mdef\u001b[0m \u001b[0m_make_engine\u001b[0m\u001b[1;33m(\u001b[0m\u001b[0mself\u001b[0m\u001b[1;33m,\u001b[0m \u001b[0mengine\u001b[0m\u001b[1;33m=\u001b[0m\u001b[1;34m'c'\u001b[0m\u001b[1;33m)\u001b[0m\u001b[1;33m:\u001b[0m\u001b[1;33m\u001b[0m\u001b[1;33m\u001b[0m\u001b[0m\n\u001b[0;32m   1013\u001b[0m         \u001b[1;32mif\u001b[0m \u001b[0mengine\u001b[0m \u001b[1;33m==\u001b[0m \u001b[1;34m'c'\u001b[0m\u001b[1;33m:\u001b[0m\u001b[1;33m\u001b[0m\u001b[1;33m\u001b[0m\u001b[0m\n\u001b[1;32m-> 1014\u001b[1;33m             \u001b[0mself\u001b[0m\u001b[1;33m.\u001b[0m\u001b[0m_engine\u001b[0m \u001b[1;33m=\u001b[0m \u001b[0mCParserWrapper\u001b[0m\u001b[1;33m(\u001b[0m\u001b[0mself\u001b[0m\u001b[1;33m.\u001b[0m\u001b[0mf\u001b[0m\u001b[1;33m,\u001b[0m \u001b[1;33m**\u001b[0m\u001b[0mself\u001b[0m\u001b[1;33m.\u001b[0m\u001b[0moptions\u001b[0m\u001b[1;33m)\u001b[0m\u001b[1;33m\u001b[0m\u001b[1;33m\u001b[0m\u001b[0m\n\u001b[0m\u001b[0;32m   1015\u001b[0m         \u001b[1;32melse\u001b[0m\u001b[1;33m:\u001b[0m\u001b[1;33m\u001b[0m\u001b[1;33m\u001b[0m\u001b[0m\n\u001b[0;32m   1016\u001b[0m             \u001b[1;32mif\u001b[0m \u001b[0mengine\u001b[0m \u001b[1;33m==\u001b[0m \u001b[1;34m'python'\u001b[0m\u001b[1;33m:\u001b[0m\u001b[1;33m\u001b[0m\u001b[1;33m\u001b[0m\u001b[0m\n",
      "\u001b[1;32m~\\Anaconda3\\lib\\site-packages\\pandas\\io\\parsers.py\u001b[0m in \u001b[0;36m__init__\u001b[1;34m(self, src, **kwds)\u001b[0m\n\u001b[0;32m   1706\u001b[0m         \u001b[0mkwds\u001b[0m\u001b[1;33m[\u001b[0m\u001b[1;34m'usecols'\u001b[0m\u001b[1;33m]\u001b[0m \u001b[1;33m=\u001b[0m \u001b[0mself\u001b[0m\u001b[1;33m.\u001b[0m\u001b[0musecols\u001b[0m\u001b[1;33m\u001b[0m\u001b[1;33m\u001b[0m\u001b[0m\n\u001b[0;32m   1707\u001b[0m \u001b[1;33m\u001b[0m\u001b[0m\n\u001b[1;32m-> 1708\u001b[1;33m         \u001b[0mself\u001b[0m\u001b[1;33m.\u001b[0m\u001b[0m_reader\u001b[0m \u001b[1;33m=\u001b[0m \u001b[0mparsers\u001b[0m\u001b[1;33m.\u001b[0m\u001b[0mTextReader\u001b[0m\u001b[1;33m(\u001b[0m\u001b[0msrc\u001b[0m\u001b[1;33m,\u001b[0m \u001b[1;33m**\u001b[0m\u001b[0mkwds\u001b[0m\u001b[1;33m)\u001b[0m\u001b[1;33m\u001b[0m\u001b[1;33m\u001b[0m\u001b[0m\n\u001b[0m\u001b[0;32m   1709\u001b[0m \u001b[1;33m\u001b[0m\u001b[0m\n\u001b[0;32m   1710\u001b[0m         \u001b[0mpassed_names\u001b[0m \u001b[1;33m=\u001b[0m \u001b[0mself\u001b[0m\u001b[1;33m.\u001b[0m\u001b[0mnames\u001b[0m \u001b[1;32mis\u001b[0m \u001b[1;32mNone\u001b[0m\u001b[1;33m\u001b[0m\u001b[1;33m\u001b[0m\u001b[0m\n",
      "\u001b[1;32mpandas\\_libs\\parsers.pyx\u001b[0m in \u001b[0;36mpandas._libs.parsers.TextReader.__cinit__\u001b[1;34m()\u001b[0m\n",
      "\u001b[1;32mpandas\\_libs\\parsers.pyx\u001b[0m in \u001b[0;36mpandas._libs.parsers.TextReader._setup_parser_source\u001b[1;34m()\u001b[0m\n",
      "\u001b[1;31mFileNotFoundError\u001b[0m: File b'./datasets/train.csv' does not exist"
     ]
    }
   ],
   "source": [
    "#import data\n",
    "train = pd.read_csv('./datasets/train.csv')\n",
    "test = pd.read_csv('./datasets/test.csv')"
   ]
  },
  {
   "cell_type": "code",
   "execution_count": null,
   "metadata": {},
   "outputs": [],
   "source": [
    "#examine data\n",
    "train.shape"
   ]
  },
  {
   "cell_type": "code",
   "execution_count": null,
   "metadata": {},
   "outputs": [],
   "source": [
    "train.info()"
   ]
  },
  {
   "cell_type": "code",
   "execution_count": null,
   "metadata": {},
   "outputs": [],
   "source": [
    "test.info()"
   ]
  },
  {
   "cell_type": "code",
   "execution_count": null,
   "metadata": {},
   "outputs": [],
   "source": [
    "def change_label (data):\n",
    "    data.columns = data.columns.str.strip().str.lower().str.replace(\" \", \"_\")"
   ]
  },
  {
   "cell_type": "code",
   "execution_count": null,
   "metadata": {},
   "outputs": [],
   "source": [
    "change_label (train)"
   ]
  },
  {
   "cell_type": "code",
   "execution_count": null,
   "metadata": {},
   "outputs": [],
   "source": [
    "change_label (test)"
   ]
  },
  {
   "cell_type": "code",
   "execution_count": null,
   "metadata": {},
   "outputs": [],
   "source": [
    "train.describe()"
   ]
  },
  {
   "cell_type": "markdown",
   "metadata": {},
   "source": [
    "<strong> Remark: </strong> We changed the labels for ease for programming at later part."
   ]
  },
  {
   "cell_type": "code",
   "execution_count": null,
   "metadata": {},
   "outputs": [],
   "source": [
    "test.shape "
   ]
  },
  {
   "cell_type": "markdown",
   "metadata": {},
   "source": [
    "<strong> Remark: </strong>  Test data do not have \"sales price\" - which is need to be predicted, hence it is fine. "
   ]
  },
  {
   "cell_type": "code",
   "execution_count": null,
   "metadata": {},
   "outputs": [],
   "source": [
    "test.info()"
   ]
  },
  {
   "cell_type": "code",
   "execution_count": null,
   "metadata": {},
   "outputs": [],
   "source": [
    "test.describe()"
   ]
  },
  {
   "cell_type": "code",
   "execution_count": null,
   "metadata": {},
   "outputs": [],
   "source": [
    "#refer to data dictionary to decide how to replace the null. \n",
    "def check_cleaned(data):\n",
    "    var_not_cleaned = 0\n",
    "    var_cleaned =0\n",
    "    for i in range(len(data.columns)):\n",
    "        if data.iloc[:,i].count() <len(data.index):\n",
    "            print (\"NOT CLEANED: column: {} ,count: {}, dytype: {}\" .format(data.columns[i],data.iloc[:,i].count(),data[data.columns[i]].dtype))\n",
    "        if data.iloc[:,i].count() <len(data.index):\n",
    "            var_not_cleaned += 1\n",
    "        else: var_cleaned +=1\n",
    "    if var_cleaned ==len(data.columns):\n",
    "        print (\"DATA CLEANED\")"
   ]
  },
  {
   "cell_type": "markdown",
   "metadata": {},
   "source": [
    "<strong> Remark: </strong> We created a function to identify variables (i.e. those with nulls/wrong data type) that require data cleaning.\n",
    "We also review the data dictionary to decide on how to clean the data."
   ]
  },
  {
   "cell_type": "code",
   "execution_count": null,
   "metadata": {},
   "outputs": [],
   "source": [
    "check_cleaned(train)\n",
    "check_cleaned(test)"
   ]
  },
  {
   "cell_type": "markdown",
   "metadata": {},
   "source": [
    "<strong> Remark: </strong> For objects, we decided to replace all null value to \"None\" - assuming the feature is not available if there is no data for it. "
   ]
  },
  {
   "cell_type": "code",
   "execution_count": null,
   "metadata": {},
   "outputs": [],
   "source": [
    "def clean_objects(data):\n",
    "    for i in range(len(data.columns)):\n",
    "        if data.iloc[:,i].dtype == \"object\":\n",
    "            if data.iloc[:,i].count() <len(data.index):\n",
    "                data[train.columns[i]]= pd.DataFrame(data.loc[:, data.columns[i]].fillna(\"None\"))\n",
    "            else: pass\n",
    "        else: pass"
   ]
  },
  {
   "cell_type": "code",
   "execution_count": null,
   "metadata": {},
   "outputs": [],
   "source": [
    "clean_objects (train)\n",
    "clean_objects (test)"
   ]
  },
  {
   "cell_type": "markdown",
   "metadata": {},
   "source": [
    "<strong> Remark: </strong> We then created a function to identify all int/floats that have null values."
   ]
  },
  {
   "cell_type": "code",
   "execution_count": null,
   "metadata": {},
   "outputs": [],
   "source": [
    "for i in range(len(train.columns)):\n",
    "    if train.iloc[:,i].count() <len(train.index):\n",
    "        print (\"column: {} ,count: {}, dytype: {}\" .format(train.columns[i],train.iloc[:,i].count(),train[train.columns[i]].dtype,train[train.columns[i]]))"
   ]
  },
  {
   "cell_type": "code",
   "execution_count": null,
   "metadata": {},
   "outputs": [],
   "source": [
    "for i in range(len(test.columns)):\n",
    "    if test.iloc[:,i].count() <len(test.index):\n",
    "        print (\"column: {} ,count: {}, dytype: {}\" .format(test.columns[i],test.iloc[:,i].count(),test[test.columns[i]].dtype,test[test.columns[i]]))"
   ]
  },
  {
   "cell_type": "markdown",
   "metadata": {},
   "source": [
    "<strong> Remark: </strong> For continous variables, we replace null with means so that we do not have to drop these data. For discrete variables - for years, we replace it with mode, while others we replace it with true zero with the assumption that feature is not available (hence null value)."
   ]
  },
  {
   "cell_type": "markdown",
   "metadata": {},
   "source": [
    "<strong>Cleaning Notes</strong>\n",
    "\n",
    "<strong>Continous variables - replace with mean</strong>\n",
    "<br>column: Lot Frontage ,count: 1721, dytype: float64</br>\n",
    "<br>column: Mas Vnr Area ,count: 2029, dytype: float64</br>\n",
    "<br>column: BsmtFin SF 1 ,count: 2050, dytype: float64</br>\n",
    "<br>column: BsmtFin SF 2 ,count: 2050, dytype: float64</br>\n",
    "<br>column: Bsmt Unf SF ,count: 2050, dytype: float64</br>\n",
    "<br>column: Total Bsmt SF ,count: 2050, dytype: float64</br>\n",
    "<br>column: Garage Area ,count: 2050, dytype: float64</br>\n",
    "\n",
    "<strong>Discrete variables - replace with mode</strong>\n",
    "<br>column: Garage Yr Blt ,count: 1937, dytype: float64</br>\n",
    "\n",
    "<strong>Discrete variables - replace with \"0\"</strong>\n",
    "<br>column: Garage Cars ,count: 2050, dytype: float64</br>\n",
    "<br>column: Bsmt Full Bath ,count: 2049, dytype: float64</br>\n",
    "<br>column: Bsmt Half Bath ,count: 2049, dytype: float64</br>"
   ]
  },
  {
   "cell_type": "code",
   "execution_count": null,
   "metadata": {},
   "outputs": [],
   "source": [
    "#find float64 variables that have less than total counts and replace null value to mean of column\n",
    "def clean_continous_var(data):\n",
    "    colchangetomean = [\"lot_frontage\",\"mas_vnr_area\", \"bsmtfin_sf_1\", \"bsmtfin_sf_2\",\"bsmt_unf_sf\",\"total_bsmt_sf\",\"garage_area\"]\n",
    "    for i in range(len(data.columns)):\n",
    "        for y in range(len(colchangetomean)):\n",
    "            if data.columns[i] == colchangetomean[y]:\n",
    "                data[data.columns[i]]= pd.DataFrame(data.loc[:, data.columns[i]].fillna(np.nanmean(data[data.columns[i]])))\n",
    "            else: pass"
   ]
  },
  {
   "cell_type": "code",
   "execution_count": null,
   "metadata": {},
   "outputs": [],
   "source": [
    "clean_continous_var (train)\n",
    "clean_continous_var (test)"
   ]
  },
  {
   "cell_type": "code",
   "execution_count": null,
   "metadata": {},
   "outputs": [],
   "source": [
    "#find float64 variables that have less than total counts and replace null value to mode of column\n",
    "def clean_discrete_var_mode(data):\n",
    "    colchangetomode = [\"garage_yr_blt\"]\n",
    "    for i in range(len(data.columns)):\n",
    "        for y in range(len(colchangetomode)):\n",
    "            if data.columns[i] == colchangetomode[y]:\n",
    "                data[data.columns[i]]= pd.DataFrame(data.loc[:, data.columns[i]].fillna(data[data.columns[i]].mode().iloc[0]))\n",
    "            else: pass"
   ]
  },
  {
   "cell_type": "code",
   "execution_count": null,
   "metadata": {},
   "outputs": [],
   "source": [
    "clean_discrete_var_mode (train)\n",
    "clean_discrete_var_mode (test)"
   ]
  },
  {
   "cell_type": "code",
   "execution_count": null,
   "metadata": {},
   "outputs": [],
   "source": [
    "#find float64 variables that have less than total counts and replace null value to zero \n",
    "def clean_discrete_var_zero(data):\n",
    "    colchangetozero = [\"bsmt_full_bath\",\"bsmt_half_bath\", \"garage_cars\"]\n",
    "    for i in range(len(data.columns)):\n",
    "        for y in range(len(colchangetozero)):\n",
    "            if data.columns[i] == colchangetozero[y]:\n",
    "                data[data.columns[i]]= pd.DataFrame(data.loc[:, data.columns[i]].fillna(0))\n",
    "            else: pass"
   ]
  },
  {
   "cell_type": "code",
   "execution_count": null,
   "metadata": {},
   "outputs": [],
   "source": [
    "clean_discrete_var_zero(train)\n",
    "clean_discrete_var_zero(test)"
   ]
  },
  {
   "cell_type": "markdown",
   "metadata": {},
   "source": [
    "<strong> Remark </strong>: We did a check to make sure that all null values are being taken care of. "
   ]
  },
  {
   "cell_type": "code",
   "execution_count": null,
   "metadata": {},
   "outputs": [],
   "source": [
    "#check if all variables are cleaned (i.e. remove null values)\n",
    "check_cleaned(train)\n",
    "check_cleaned(test)"
   ]
  },
  {
   "cell_type": "code",
   "execution_count": null,
   "metadata": {},
   "outputs": [],
   "source": [
    "train.info"
   ]
  },
  {
   "cell_type": "code",
   "execution_count": null,
   "metadata": {},
   "outputs": [],
   "source": [
    "test.info()"
   ]
  },
  {
   "cell_type": "markdown",
   "metadata": {},
   "source": [
    "## EDA\n",
    "- to check if there is any other variables that require cleaning\n",
    "- brainstorm on feature engineering "
   ]
  },
  {
   "cell_type": "code",
   "execution_count": null,
   "metadata": {},
   "outputs": [],
   "source": [
    "def subplot_histograms(dataframe, list_of_columns, list_of_titles, list_of_xlabels):\n",
    "    nrows = int(np.ceil(len(list_of_columns)/2)) # Makes sure you have enough rows\n",
    "    fig, ax = plt.subplots(nrows=nrows, ncols=2,figsize=(20,80)) # You'll want to specify your figsize\n",
    "    ax = ax.ravel() # Ravel turns a matrix into a vector, which is easier to iterate\n",
    "    for i, column in enumerate(list_of_columns): # Gives us an index value to get into all our lists\n",
    "        ax[i].hist(dataframe[column]) # feel free to add more settings\n",
    "    for y in list_of_titles:\n",
    "        plt.title(y)\n",
    "        # Set titles, labels, etc here for each subplot"
   ]
  },
  {
   "cell_type": "code",
   "execution_count": null,
   "metadata": {},
   "outputs": [],
   "source": [
    "train[[\"saleprice\",\"year_built\",\"year_remod/add\",\"yr_sold\",\"mo_sold\",\"overall_qual\",\"overall_cond\",\"gr_liv_area\",\"ms_subclass\"]].hist(figsize=(20,10), sharex=False, sharey=False)"
   ]
  },
  {
   "cell_type": "markdown",
   "metadata": {},
   "source": [
    "<strong>Remark:</strong> \n",
    "<br>Overall condition/quality is positively skewed with minimum number of outliers.</br>\n",
    "<br>Salesprice distribution is positively skewed to the right with a number of outliers.</br>\n",
    "<br>Oldest house built in ~1880s. Newest house built in ~2010.</br>\n",
    "<br>Yr sold between 2006 and 2010, with relative lower no. of houses sold in 2010</br>\n",
    "<br>No. of houses sold peak in June/July.</br>\n",
    "<br>Most house size is between 1000 to ~1800 sq feet</br>"
   ]
  },
  {
   "cell_type": "code",
   "execution_count": null,
   "metadata": {},
   "outputs": [],
   "source": [
    "# Count plots of categorical features\n",
    "cat_features = train.select_dtypes(include=['object']).columns\n",
    "f = pd.melt(train, value_vars=sorted(cat_features))\n",
    "g = sns.FacetGrid(f, col='variable', col_wrap=4, sharex=False, sharey=False)\n",
    "plt.xticks(rotation='vertical')\n",
    "g = g.map(sns.countplot, 'value', order=None)\n",
    "[plt.setp(ax.get_xticklabels(), rotation=60) for ax in g.axes.flat]\n",
    "g.fig.tight_layout()\n",
    "plt.show()"
   ]
  },
  {
   "cell_type": "markdown",
   "metadata": {},
   "source": [
    "<strong>Remark:</strong>\n",
    "Note that a number of variables are skewed towards one value. We will not include these variables for regression analysis. However we will need to take note of this situation when performing analysis. \n",
    "\n",
    "Categorical variables to transform for regression analysis: variables with scales (i.e. excellent, good. etc), neighbourhood, bsmtfin_type_1, exterior_1st, exterior_2nd, foundation, garage_finish, garage_type, house_style, lot_shape, mas_vnr_type."
   ]
  },
  {
   "cell_type": "markdown",
   "metadata": {},
   "source": [
    " <a id=\"Dummies\"></a>"
   ]
  },
  {
   "cell_type": "markdown",
   "metadata": {},
   "source": [
    "## Creating dummies for identified categorical data"
   ]
  },
  {
   "cell_type": "code",
   "execution_count": null,
   "metadata": {},
   "outputs": [],
   "source": [
    "#create dummies for train and test data\n",
    "train = pd.get_dummies(train,columns=[\"mas_vnr_type\",\"ms_subclass\",\"bsmt_qual\",\"bsmt_cond\",\"exter_qual\",\"exter_cond\",\"heating_qc\",\"kitchen_qual\",\"fireplace_qu\",\"garage_qual\",\"garage_cond\",\"pool_qc\",\"neighborhood\", \"bsmtfin_type_1\", \"exterior_1st\", \"exterior_2nd\", \"foundation\", \"garage_finish\", \"garage_type\", \"house_style\", \"lot_shape\"])\n",
    "test = pd.get_dummies(test,columns=[\"mas_vnr_type\",\"ms_subclass\",\"bsmt_qual\",\"bsmt_cond\",\"exter_qual\",\"exter_cond\",\"heating_qc\",\"kitchen_qual\",\"fireplace_qu\",\"garage_qual\",\"garage_cond\",\"pool_qc\",\"neighborhood\", \"bsmtfin_type_1\", \"exterior_1st\", \"exterior_2nd\", \"foundation\", \"garage_finish\", \"garage_type\", \"house_style\", \"lot_shape\"])"
   ]
  },
  {
   "cell_type": "code",
   "execution_count": null,
   "metadata": {},
   "outputs": [],
   "source": [
    "#check for dummies variables created\n",
    "dummiesvar = (\"mas_vnr_type\",\"ms_subclass\",\"bsmt_qual\",\"bsmt_cond\",\"exter_qual\",\"exter_cond\",\"heating_qc\",\"kitchen_qual\",\"fireplace_qu\",\"garage_qual\",\"garage_cond\",\"pool_qc\",\"neighborhood\", \"bsmtfin_type_1\", \"exterior_1st\", \"exterior_2nd\", \"foundation\", \"garage_finish\", \"garage_type\", \"house_style\", \"lot_shape\")\n",
    "\n",
    "def check_dumb (data):\n",
    "    for i in dummiesvar:\n",
    "        check_cols = ()\n",
    "        check_cols = [col for col in data.columns if i in col]\n",
    "        print (\"{},\".format(tuple(check_cols)))"
   ]
  },
  {
   "cell_type": "code",
   "execution_count": null,
   "metadata": {},
   "outputs": [],
   "source": [
    "check_dumb (train)"
   ]
  },
  {
   "cell_type": "code",
   "execution_count": null,
   "metadata": {},
   "outputs": [],
   "source": [
    "#input dummies created below\n",
    "\n",
    "dumb_train_var = [('mas_vnr_type_BrkCmn', 'mas_vnr_type_BrkFace', 'mas_vnr_type_None', 'mas_vnr_type_Stone'),('ms_subclass_20', 'ms_subclass_30', 'ms_subclass_40', 'ms_subclass_45', 'ms_subclass_50', 'ms_subclass_60', 'ms_subclass_70', 'ms_subclass_75', 'ms_subclass_80', 'ms_subclass_85', 'ms_subclass_90', 'ms_subclass_120', 'ms_subclass_150', 'ms_subclass_160', 'ms_subclass_180', 'ms_subclass_190'),('bsmt_qual_Ex', 'bsmt_qual_Fa', 'bsmt_qual_Gd', 'bsmt_qual_None', 'bsmt_qual_Po', 'bsmt_qual_TA'),\n",
    "('bsmt_cond_Ex', 'bsmt_cond_Fa', 'bsmt_cond_Gd', 'bsmt_cond_None', 'bsmt_cond_Po', 'bsmt_cond_TA'),\n",
    "('exter_qual_Ex', 'exter_qual_Fa', 'exter_qual_Gd', 'exter_qual_TA'),\n",
    "('exter_cond_Ex', 'exter_cond_Fa', 'exter_cond_Gd', 'exter_cond_Po', 'exter_cond_TA'),\n",
    "('heating_qc_Ex', 'heating_qc_Fa', 'heating_qc_Gd', 'heating_qc_Po', 'heating_qc_TA'),\n",
    "('kitchen_qual_Ex', 'kitchen_qual_Fa', 'kitchen_qual_Gd', 'kitchen_qual_TA'),\n",
    "('fireplace_qu_Ex', 'fireplace_qu_Fa', 'fireplace_qu_Gd', 'fireplace_qu_None', 'fireplace_qu_Po', 'fireplace_qu_TA'),\n",
    "('garage_qual_Ex', 'garage_qual_Fa', 'garage_qual_Gd', 'garage_qual_None', 'garage_qual_Po', 'garage_qual_TA'),\n",
    "('garage_cond_Ex', 'garage_cond_Fa', 'garage_cond_Gd', 'garage_cond_None', 'garage_cond_Po', 'garage_cond_TA'),\n",
    "('pool_qc_Ex', 'pool_qc_Fa', 'pool_qc_Gd', 'pool_qc_None', 'pool_qc_TA'),\n",
    "('neighborhood_Blmngtn', 'neighborhood_Blueste', 'neighborhood_BrDale', 'neighborhood_BrkSide', 'neighborhood_ClearCr', 'neighborhood_CollgCr', 'neighborhood_Crawfor', 'neighborhood_Edwards', 'neighborhood_Gilbert', 'neighborhood_Greens', 'neighborhood_GrnHill', 'neighborhood_IDOTRR', 'neighborhood_Landmrk', 'neighborhood_MeadowV', 'neighborhood_Mitchel', 'neighborhood_NAmes', 'neighborhood_NPkVill', 'neighborhood_NWAmes', 'neighborhood_NoRidge', 'neighborhood_NridgHt', 'neighborhood_OldTown', 'neighborhood_SWISU', 'neighborhood_Sawyer', 'neighborhood_SawyerW', 'neighborhood_Somerst', 'neighborhood_StoneBr', 'neighborhood_Timber', 'neighborhood_Veenker'),\n",
    "('bsmtfin_type_1_ALQ', 'bsmtfin_type_1_BLQ', 'bsmtfin_type_1_GLQ', 'bsmtfin_type_1_LwQ', 'bsmtfin_type_1_None', 'bsmtfin_type_1_Rec', 'bsmtfin_type_1_Unf'),\n",
    "('exterior_1st_AsbShng', 'exterior_1st_AsphShn', 'exterior_1st_BrkComm', 'exterior_1st_BrkFace', 'exterior_1st_CBlock', 'exterior_1st_CemntBd', 'exterior_1st_HdBoard', 'exterior_1st_ImStucc', 'exterior_1st_MetalSd', 'exterior_1st_Plywood', 'exterior_1st_Stone', 'exterior_1st_Stucco', 'exterior_1st_VinylSd', 'exterior_1st_Wd Sdng', 'exterior_1st_WdShing'),\n",
    "('exterior_2nd_AsbShng', 'exterior_2nd_AsphShn', 'exterior_2nd_Brk Cmn', 'exterior_2nd_BrkFace', 'exterior_2nd_CBlock', 'exterior_2nd_CmentBd', 'exterior_2nd_HdBoard', 'exterior_2nd_ImStucc', 'exterior_2nd_MetalSd', 'exterior_2nd_Plywood', 'exterior_2nd_Stone', 'exterior_2nd_Stucco', 'exterior_2nd_VinylSd', 'exterior_2nd_Wd Sdng', 'exterior_2nd_Wd Shng'),\n",
    "('foundation_BrkTil', 'foundation_CBlock', 'foundation_PConc', 'foundation_Slab', 'foundation_Stone', 'foundation_Wood'),\n",
    "('garage_finish_Fin', 'garage_finish_None', 'garage_finish_RFn', 'garage_finish_Unf'),\n",
    "('garage_type_2Types', 'garage_type_Attchd', 'garage_type_Basment', 'garage_type_BuiltIn', 'garage_type_CarPort', 'garage_type_Detchd', 'garage_type_None'),\n",
    "('house_style_1.5Fin', 'house_style_1.5Unf', 'house_style_1Story', 'house_style_2.5Fin', 'house_style_2.5Unf', 'house_style_2Story', 'house_style_SFoyer', 'house_style_SLvl'),\n",
    "('lot_shape_IR1', 'lot_shape_IR2', 'lot_shape_IR3', 'lot_shape_Reg')]"
   ]
  },
  {
   "cell_type": "code",
   "execution_count": null,
   "metadata": {},
   "outputs": [],
   "source": [
    "check_dumb (test)"
   ]
  },
  {
   "cell_type": "code",
   "execution_count": null,
   "metadata": {},
   "outputs": [],
   "source": [
    "#input dummies created below\n",
    "\n",
    "dumb_test_var = [('mas_vnr_type_BrkCmn', 'mas_vnr_type_BrkFace', 'mas_vnr_type_None', 'mas_vnr_type_Stone'),('ms_subclass_20', 'ms_subclass_30', 'ms_subclass_40', 'ms_subclass_45', 'ms_subclass_50', 'ms_subclass_60', 'ms_subclass_70', 'ms_subclass_75', 'ms_subclass_80', 'ms_subclass_85', 'ms_subclass_90', 'ms_subclass_120', 'ms_subclass_160', 'ms_subclass_180', 'ms_subclass_190'),('bsmt_qual_Ex', 'bsmt_qual_Fa', 'bsmt_qual_Gd', 'bsmt_qual_None', 'bsmt_qual_Po', 'bsmt_qual_TA'),\n",
    "('bsmt_cond_Fa', 'bsmt_cond_Gd', 'bsmt_cond_None', 'bsmt_cond_TA'),\n",
    "('exter_qual_Ex', 'exter_qual_Fa', 'exter_qual_Gd', 'exter_qual_TA'),\n",
    "('exter_cond_Ex', 'exter_cond_Fa', 'exter_cond_Gd', 'exter_cond_Po', 'exter_cond_TA'),\n",
    "('heating_qc_Ex', 'heating_qc_Fa', 'heating_qc_Gd', 'heating_qc_TA'),\n",
    "('kitchen_qual_Ex', 'kitchen_qual_Fa', 'kitchen_qual_Gd', 'kitchen_qual_Po', 'kitchen_qual_TA'),\n",
    "('fireplace_qu_Ex', 'fireplace_qu_Fa', 'fireplace_qu_Gd', 'fireplace_qu_None', 'fireplace_qu_Po', 'fireplace_qu_TA'),\n",
    "('garage_qual_Fa', 'garage_qual_Gd', 'garage_qual_None', 'garage_qual_Po', 'garage_qual_TA'),\n",
    "('garage_cond_Ex', 'garage_cond_Fa', 'garage_cond_Gd', 'garage_cond_None', 'garage_cond_Po', 'garage_cond_TA'),\n",
    "('pool_qc_Ex', 'pool_qc_None', 'pool_qc_TA'),\n",
    "('neighborhood_Blmngtn', 'neighborhood_Blueste', 'neighborhood_BrDale', 'neighborhood_BrkSide', 'neighborhood_ClearCr', 'neighborhood_CollgCr', 'neighborhood_Crawfor', 'neighborhood_Edwards', 'neighborhood_Gilbert', 'neighborhood_Greens', 'neighborhood_IDOTRR', 'neighborhood_MeadowV', 'neighborhood_Mitchel', 'neighborhood_NAmes', 'neighborhood_NPkVill', 'neighborhood_NWAmes', 'neighborhood_NoRidge', 'neighborhood_NridgHt', 'neighborhood_OldTown', 'neighborhood_SWISU', 'neighborhood_Sawyer', 'neighborhood_SawyerW', 'neighborhood_Somerst', 'neighborhood_StoneBr', 'neighborhood_Timber', 'neighborhood_Veenker'),\n",
    "('bsmtfin_type_1_ALQ', 'bsmtfin_type_1_BLQ', 'bsmtfin_type_1_GLQ', 'bsmtfin_type_1_LwQ', 'bsmtfin_type_1_None', 'bsmtfin_type_1_Rec', 'bsmtfin_type_1_Unf'),\n",
    "('exterior_1st_AsbShng', 'exterior_1st_AsphShn', 'exterior_1st_BrkComm', 'exterior_1st_BrkFace', 'exterior_1st_CemntBd', 'exterior_1st_HdBoard', 'exterior_1st_MetalSd', 'exterior_1st_Plywood', 'exterior_1st_PreCast', 'exterior_1st_Stucco', 'exterior_1st_VinylSd', 'exterior_1st_Wd Sdng', 'exterior_1st_WdShing'),\n",
    "('exterior_2nd_AsbShng', 'exterior_2nd_AsphShn', 'exterior_2nd_Brk Cmn', 'exterior_2nd_BrkFace', 'exterior_2nd_CBlock', 'exterior_2nd_CmentBd', 'exterior_2nd_HdBoard', 'exterior_2nd_ImStucc', 'exterior_2nd_MetalSd', 'exterior_2nd_Other', 'exterior_2nd_Plywood', 'exterior_2nd_PreCast', 'exterior_2nd_Stucco', 'exterior_2nd_VinylSd', 'exterior_2nd_Wd Sdng', 'exterior_2nd_Wd Shng'),\n",
    "('foundation_BrkTil', 'foundation_CBlock', 'foundation_PConc', 'foundation_Slab', 'foundation_Stone', 'foundation_Wood'),\n",
    "('garage_finish_Fin', 'garage_finish_None', 'garage_finish_RFn', 'garage_finish_Unf'),\n",
    "('garage_type_2Types', 'garage_type_Attchd', 'garage_type_Basment', 'garage_type_BuiltIn', 'garage_type_CarPort', 'garage_type_Detchd', 'garage_type_None'),\n",
    "('house_style_1.5Fin', 'house_style_1.5Unf', 'house_style_1Story', 'house_style_2.5Fin', 'house_style_2.5Unf', 'house_style_2Story', 'house_style_SFoyer', 'house_style_SLvl'),\n",
    "('lot_shape_IR1', 'lot_shape_IR2', 'lot_shape_IR3', 'lot_shape_Reg')]"
   ]
  },
  {
   "cell_type": "code",
   "execution_count": null,
   "metadata": {},
   "outputs": [],
   "source": [
    "def to_dropdumb (var):\n",
    "    for i in range(len(var)):\n",
    "        to_drop=[]\n",
    "        to_drop=var[i][len(var[i])-1]\n",
    "        print (\"'{}',\" .format(to_drop))"
   ]
  },
  {
   "cell_type": "code",
   "execution_count": null,
   "metadata": {},
   "outputs": [],
   "source": [
    "to_dropdumb(dumb_train_var)"
   ]
  },
  {
   "cell_type": "code",
   "execution_count": null,
   "metadata": {},
   "outputs": [],
   "source": [
    "#input variables to drop below\n",
    "train = train.drop(columns=['mas_vnr_type_None','ms_subclass_190',\n",
    "'bsmt_qual_TA',\n",
    "'bsmt_cond_TA',\n",
    "'exter_qual_TA',\n",
    "'exter_cond_TA',\n",
    "'heating_qc_TA',\n",
    "'kitchen_qual_TA',\n",
    "'fireplace_qu_TA',\n",
    "'garage_qual_TA',\n",
    "'garage_cond_TA',\n",
    "'pool_qc_TA',\n",
    "'neighborhood_Veenker',\n",
    "'bsmtfin_type_1_Unf',\n",
    "'exterior_1st_WdShing',\n",
    "'exterior_2nd_Wd Shng',\n",
    "'foundation_Wood',\n",
    "'garage_finish_Unf',\n",
    "'garage_type_None',\n",
    "'house_style_SLvl',\n",
    "'lot_shape_Reg'])"
   ]
  },
  {
   "cell_type": "code",
   "execution_count": null,
   "metadata": {},
   "outputs": [],
   "source": [
    "to_dropdumb(dumb_test_var)"
   ]
  },
  {
   "cell_type": "code",
   "execution_count": null,
   "metadata": {},
   "outputs": [],
   "source": [
    "#input variables to drop below\n",
    "test = test.drop(columns=['mas_vnr_type_None','ms_subclass_190','bsmt_qual_TA',\n",
    "'bsmt_cond_TA',\n",
    "'exter_qual_TA',\n",
    "'exter_cond_TA',\n",
    "'heating_qc_TA',\n",
    "'kitchen_qual_TA',\n",
    "'fireplace_qu_TA',\n",
    "'garage_qual_TA',\n",
    "'garage_cond_TA',\n",
    "'pool_qc_TA',\n",
    "'neighborhood_Veenker',\n",
    "'bsmtfin_type_1_Unf',\n",
    "'exterior_1st_WdShing',\n",
    "'exterior_2nd_Wd Shng',\n",
    "'foundation_Wood',\n",
    "'garage_finish_Unf',\n",
    "'garage_type_None',\n",
    "'house_style_SLvl',\n",
    "'lot_shape_Reg'])"
   ]
  },
  {
   "cell_type": "markdown",
   "metadata": {},
   "source": [
    " <a id=\"Outliers\"></a>"
   ]
  },
  {
   "cell_type": "markdown",
   "metadata": {},
   "source": [
    "## Remove Outliers\n",
    "\n",
    "As per the special notes provided by the author:\n",
    "There are 5 observations that an instructor may wish to remove from the data set before giving it to students (a plot of SALE PRICE versus GR LIV AREA will indicate them quickly). Three of them are true outliers (Partial Sales that likely don’t represent actual market values) and two of them are simply unusual sales (very large houses priced relatively appropriately). I would recommend removing any houses with more than 4000 square feet from the data set (which eliminates these 5 unusual observations) before assigning it to students"
   ]
  },
  {
   "cell_type": "code",
   "execution_count": null,
   "metadata": {},
   "outputs": [],
   "source": [
    "# Inspect the scatter plot of GrLivArea vs. SalePrice\n",
    "#Plot figsize\n",
    "fig, ax = plt.subplots(figsize=(10,6)) \n",
    "sns.scatterplot(train[\"gr_liv_area\"], train[\"saleprice\"])\n",
    "ax.set_xlim(0, 7000)\n",
    "plt.show()"
   ]
  },
  {
   "cell_type": "code",
   "execution_count": null,
   "metadata": {},
   "outputs": [],
   "source": [
    "# removed Gr Liv Area above 4000 (outliers)\n",
    "train.drop(train[train[\"gr_liv_area\"] >= 4000].index, inplace=True)"
   ]
  },
  {
   "cell_type": "markdown",
   "metadata": {},
   "source": [
    "<strong> Remark: </strong>There are some other outliers as well. We will keep these outliers first to see if they affect the models in the later part. "
   ]
  },
  {
   "cell_type": "markdown",
   "metadata": {},
   "source": [
    " <a id=\"Features\"></a>"
   ]
  },
  {
   "cell_type": "markdown",
   "metadata": {},
   "source": [
    "## Features Engineering"
   ]
  },
  {
   "cell_type": "markdown",
   "metadata": {},
   "source": [
    "<strong> Remark: </strong> We review the data dictionary and engineered more features by themes."
   ]
  },
  {
   "cell_type": "code",
   "execution_count": null,
   "metadata": {},
   "outputs": [],
   "source": [
    "#grouping discrete/continous variables with the same themes together.\n",
    "def features_engineer_dis_con (data):\n",
    "    data[\"basement_bath\"] = data[\"bsmt_full_bath\"]+data[\"bsmt_half_bath\"] \n",
    "    data[\"total_bath\"] = data[\"half_bath\"] * data [\"full_bath\"]\n",
    "    data[\"porch_sf\"] = data[\"wood_deck_sf\"] + data [\"open_porch_sf\"] + data [\"enclosed_porch\"] + data[\"3ssn_porch\"] + data [\"screen_porch\"]\n",
    "    data[\"rmsabovegrade\"] = data[\"full_bath\"] + data [\"half_bath\"] + data[\"bedroom_abvgr\"] + data[\"kitchen_abvgr\"] + data[\"totrms_abvgrd\"]\n",
    "    data[\"garage_size_percar\"] = data [\"garage_area\"] / data[\"garage_cars\"]"
   ]
  },
  {
   "cell_type": "code",
   "execution_count": null,
   "metadata": {},
   "outputs": [],
   "source": [
    "features_engineer_dis_con (train)"
   ]
  },
  {
   "cell_type": "code",
   "execution_count": null,
   "metadata": {},
   "outputs": [],
   "source": [
    "features_engineer_dis_con (test)"
   ]
  },
  {
   "cell_type": "code",
   "execution_count": null,
   "metadata": {},
   "outputs": [],
   "source": [
    "train[\"garage_size_percar\"]= train[\"garage_size_percar\"].replace(np.inf, 0)"
   ]
  },
  {
   "cell_type": "code",
   "execution_count": null,
   "metadata": {},
   "outputs": [],
   "source": [
    "test[\"garage_size_percar\"]= test[\"garage_size_percar\"].replace(np.inf, 0)"
   ]
  },
  {
   "cell_type": "code",
   "execution_count": null,
   "metadata": {},
   "outputs": [],
   "source": [
    "train[\"garage_size_percar\"]= train[\"garage_size_percar\"].replace(np.nan, 0)"
   ]
  },
  {
   "cell_type": "code",
   "execution_count": null,
   "metadata": {},
   "outputs": [],
   "source": [
    "test[\"garage_size_percar\"]= test[\"garage_size_percar\"].replace(np.nan, 0)"
   ]
  },
  {
   "cell_type": "code",
   "execution_count": null,
   "metadata": {},
   "outputs": [],
   "source": [
    "#create variables that sum up the no. of excellents (excluding overall condition and overall quality)\n",
    "def features_engineer_excellent_train (data):\n",
    "    data[\"num_excellent\"] = data[\"bsmt_qual_Ex\"] + data[\"bsmt_cond_Ex\"] + data[\"exter_qual_Ex\"]+data[\"exter_cond_Ex\"]+data[\"heating_qc_Ex\"]+data[\"kitchen_qual_Ex\"]+data[\"fireplace_qu_Ex\"]+data[\"garage_qual_Ex\"]+data[\"garage_cond_Ex\"]+data[\"pool_qc_Ex\"]"
   ]
  },
  {
   "cell_type": "code",
   "execution_count": null,
   "metadata": {},
   "outputs": [],
   "source": [
    "def features_engineer_excellent_test (data):\n",
    "    data[\"num_excellent\"] = data[\"bsmt_qual_Ex\"] +data[\"exter_qual_Ex\"]+data[\"exter_cond_Ex\"]+data[\"heating_qc_Ex\"]+data[\"kitchen_qual_Ex\"]+data[\"fireplace_qu_Ex\"]++data[\"garage_cond_Ex\"]+data[\"pool_qc_Ex\"]"
   ]
  },
  {
   "cell_type": "code",
   "execution_count": null,
   "metadata": {},
   "outputs": [],
   "source": [
    "def features_engineer_ex_gd_train (data):\n",
    "    data[\"num_ex_gd\"] = data[\"bsmt_qual_Ex\"] + data[\"bsmt_cond_Ex\"] + data[\"bsmt_qual_Gd\"] + data[\"bsmt_cond_Gd\"] +data[\"exter_qual_Ex\"]+data[\"exter_cond_Ex\"]+data[\"heating_qc_Ex\"]+data[\"kitchen_qual_Ex\"]+data[\"fireplace_qu_Ex\"]+data[\"garage_qual_Ex\"]+data[\"garage_cond_Ex\"]+data[\"pool_qc_Ex\"]+ data[\"exter_qual_Gd\"]+data[\"exter_cond_Gd\"]+data[\"heating_qc_Gd\"]+data[\"kitchen_qual_Gd\"]+data[\"fireplace_qu_Gd\"]+data[\"garage_qual_Gd\"]+data[\"garage_cond_Gd\"]+data[\"pool_qc_Gd\"]"
   ]
  },
  {
   "cell_type": "code",
   "execution_count": null,
   "metadata": {},
   "outputs": [],
   "source": [
    "def features_engineer_ex_gd_test (data):\n",
    "    data[\"num_ex_gd\"] = data[\"bsmt_qual_Ex\"] + data[\"bsmt_qual_Gd\"] + data[\"bsmt_cond_Gd\"]+data[\"exter_qual_Ex\"]+data[\"exter_cond_Ex\"]+data[\"heating_qc_Ex\"]+data[\"kitchen_qual_Ex\"]+data[\"fireplace_qu_Ex\"]+data[\"garage_cond_Ex\"]+data[\"pool_qc_Ex\"]+ data[\"exter_qual_Gd\"]+data[\"exter_cond_Gd\"]+data[\"heating_qc_Gd\"]+data[\"kitchen_qual_Gd\"]+data[\"fireplace_qu_Gd\"]+data[\"garage_cond_Gd\"]+data[\"garage_qual_Gd\"]"
   ]
  },
  {
   "cell_type": "code",
   "execution_count": null,
   "metadata": {},
   "outputs": [],
   "source": [
    "features_engineer_excellent_train(train)"
   ]
  },
  {
   "cell_type": "code",
   "execution_count": null,
   "metadata": {},
   "outputs": [],
   "source": [
    "features_engineer_excellent_test(test)"
   ]
  },
  {
   "cell_type": "code",
   "execution_count": null,
   "metadata": {},
   "outputs": [],
   "source": [
    "features_engineer_ex_gd_train (train)"
   ]
  },
  {
   "cell_type": "code",
   "execution_count": null,
   "metadata": {},
   "outputs": [],
   "source": [
    "features_engineer_ex_gd_test (test)"
   ]
  },
  {
   "cell_type": "code",
   "execution_count": null,
   "metadata": {},
   "outputs": [],
   "source": [
    "list(train.columns)"
   ]
  },
  {
   "cell_type": "code",
   "execution_count": null,
   "metadata": {},
   "outputs": [],
   "source": [
    "list(test.columns)"
   ]
  },
  {
   "cell_type": "markdown",
   "metadata": {},
   "source": [
    " <a id=\"Correlation\"></a>"
   ]
  },
  {
   "cell_type": "markdown",
   "metadata": {},
   "source": [
    "## Correlation  \n",
    "\n",
    "- remove variables that are correlated (within predictors)"
   ]
  },
  {
   "cell_type": "code",
   "execution_count": null,
   "metadata": {},
   "outputs": [],
   "source": [
    "predictors_filtered = train[['lot_frontage','lot_area',\n",
    " # 'overall_qual',  # to remove - strongly correlate with multiple variables ###\n",
    " 'overall_cond',\n",
    " #'year_built', # to remove - strongly correlate with overall qual  ###\n",
    " #'year_remod/add', # to remove - strongly correlate with overall qual  ###\n",
    " 'mas_vnr_type_BrkCmn',\n",
    " #'mas_vnr_type_BrkFace', ######\n",
    " 'mas_vnr_type_Stone',\n",
    " 'mas_vnr_area',\n",
    " #'bsmtfin_sf_1',# to remove - strongly correlate with multiple variables   ###\n",
    " #'bsmtfin_sf_2', #to remove strongly correlate with bath  ###\n",
    " 'bsmt_unf_sf',\n",
    " 'total_bsmt_sf', \n",
    " #'1st_flr_sf', # to remove- strongly correlate total bsmt square feet ####\n",
    " #'2nd_flr_sf',# to remove- strongly correlate total bsmt square feet ####\n",
    " 'low_qual_fin_sf',\n",
    " #'gr_liv_area', # to remove- strongly correlate totalrm abv grade  ###\n",
    " 'bsmt_full_bath',\n",
    " 'bsmt_half_bath',\n",
    " #'full_bath', # to remove - strongly correlate with multiple variables ####\n",
    " 'half_bath',\n",
    " #'bedroom_abvgr', # to remove- strongly correlate totalrm abv grade  ###\n",
    " ###'kitchen_abvgr',  ###\n",
    " 'totrms_abvgrd', \n",
    " 'fireplaces',\n",
    " 'garage_yr_blt',\n",
    " 'garage_cars', \n",
    " #'garage_area', # to remove- strongly correlate with garage car  ###\n",
    " 'wood_deck_sf',\n",
    " 'open_porch_sf',\n",
    " 'enclosed_porch',\n",
    " '3ssn_porch',\n",
    " 'screen_porch',\n",
    " 'pool_area',\n",
    " 'misc_val',\n",
    " 'mo_sold',\n",
    " 'yr_sold','neighborhood_Blmngtn',\n",
    " 'neighborhood_Blueste',\n",
    " 'neighborhood_BrDale',\n",
    " 'neighborhood_BrkSide',\n",
    " 'neighborhood_ClearCr',\n",
    " 'neighborhood_CollgCr',\n",
    " 'neighborhood_Crawfor',\n",
    " 'neighborhood_Edwards',\n",
    " 'neighborhood_Gilbert',\n",
    " 'neighborhood_Greens',\n",
    " #'neighborhood_GrnHill',\n",
    " 'neighborhood_IDOTRR',\n",
    " #'neighborhood_Landmrk',\n",
    " 'neighborhood_MeadowV',\n",
    " 'neighborhood_Mitchel',\n",
    " 'neighborhood_NAmes',\n",
    " 'neighborhood_NPkVill',\n",
    " 'neighborhood_NWAmes',\n",
    " 'neighborhood_NoRidge',\n",
    " 'neighborhood_NridgHt',\n",
    " 'neighborhood_OldTown',\n",
    " 'neighborhood_SWISU',\n",
    " 'neighborhood_Sawyer',\n",
    " 'neighborhood_SawyerW',\n",
    " 'neighborhood_Somerst',\n",
    " 'neighborhood_StoneBr',\n",
    " 'neighborhood_Timber','bsmtfin_type_1_ALQ',\n",
    " 'bsmtfin_type_1_BLQ',\n",
    " 'bsmtfin_type_1_GLQ',\n",
    " 'bsmtfin_type_1_LwQ',\n",
    " 'bsmtfin_type_1_Rec',\n",
    " #'exterior_1st_AsbShng',\n",
    " #'exterior_1st_AsphShn',\n",
    " 'exterior_1st_BrkComm',\n",
    " #'exterior_1st_BrkFace',\n",
    " #'exterior_1st_CBlock',\n",
    " #'exterior_1st_CemntBd',\n",
    " #'exterior_1st_HdBoard',\n",
    " #'exterior_1st_ImStucc',\n",
    " #'exterior_1st_MetalSd',\n",
    " #'exterior_1st_Plywood',\n",
    " #'exterior_1st_Stone',\n",
    " #'exterior_1st_Stucco',\n",
    " #'exterior_1st_VinylSd',\n",
    " #'exterior_1st_Wd Sdng',\n",
    " 'exterior_2nd_AsbShng',\n",
    " 'exterior_2nd_AsphShn',\n",
    " #'exterior_2nd_Brk Cmn',\n",
    " 'exterior_2nd_BrkFace',\n",
    " 'exterior_2nd_CBlock',\n",
    " 'exterior_2nd_CmentBd',\n",
    " 'exterior_2nd_HdBoard',\n",
    " 'exterior_2nd_ImStucc',\n",
    " 'exterior_2nd_MetalSd',\n",
    " 'exterior_2nd_Plywood',\n",
    " #'exterior_2nd_Stone',\n",
    " 'exterior_2nd_Stucco',\n",
    " 'exterior_2nd_VinylSd',\n",
    " 'exterior_2nd_Wd Sdng','foundation_BrkTil',\n",
    " 'foundation_CBlock',\n",
    "# 'foundation_PConc',######\n",
    " 'foundation_Slab',\n",
    " 'foundation_Stone',\n",
    " 'garage_finish_Fin',\n",
    " 'garage_finish_None',\n",
    " 'garage_finish_RFn',\n",
    " 'garage_type_2Types',\n",
    " #'garage_type_Attchd', ####\n",
    " 'garage_type_Basment',\n",
    " 'garage_type_BuiltIn',\n",
    " 'garage_type_CarPort',\n",
    " 'garage_type_Detchd',\n",
    " #'house_style_1.5Fin', ######\n",
    " #'house_style_1.5Unf', ######\n",
    " #'house_style_1Story', ######\n",
    " #'house_style_2.5Fin', ######\n",
    " #'house_style_2.5Unf',######\n",
    " #'house_style_2Story',######\n",
    " #'house_style_SFoyer',######\n",
    " 'lot_shape_IR1',\n",
    " 'lot_shape_IR2',\n",
    " 'lot_shape_IR3',\n",
    " #'basement_bath', ####\n",
    " #'total_bath',  ###\n",
    " 'garage_size_percar',\n",
    " #'porch_sf',  ###\n",
    " #'rmsabovegrade', ####\n",
    " #'num_excellent', ####\n",
    " 'num_ex_gd',\n",
    " 'ms_subclass_20',\n",
    " 'ms_subclass_30',\n",
    " 'ms_subclass_40',\n",
    " 'ms_subclass_45',\n",
    " 'ms_subclass_50',\n",
    " 'ms_subclass_60',\n",
    " 'ms_subclass_70',\n",
    " 'ms_subclass_75',\n",
    " 'ms_subclass_80',\n",
    " 'ms_subclass_85',\n",
    " 'ms_subclass_90',\n",
    " 'ms_subclass_120',\n",
    "# 'ms_subclass_150', ######\n",
    " 'ms_subclass_160',\n",
    " 'ms_subclass_180',\"bsmt_qual_Ex\",\"exter_qual_Ex\",\"exter_cond_Ex\",\"heating_qc_Ex\",\"kitchen_qual_Ex\",\"fireplace_qu_Ex\",\"garage_cond_Ex\"]]\n"
   ]
  },
  {
   "cell_type": "code",
   "execution_count": null,
   "metadata": {},
   "outputs": [],
   "source": [
    "predictors_all = train[['lot_frontage',\n",
    " 'lot_area',\n",
    " 'overall_qual',  # to remove - strongly correlate with multiple variables\n",
    " 'overall_cond',\n",
    " 'year_built', # to remove - strongly correlate with overall qual\n",
    " 'year_remod/add', # to remove - strongly correlate with overall qual\n",
    " 'mas_vnr_type_BrkCmn',\n",
    " 'mas_vnr_type_BrkFace',\n",
    " 'mas_vnr_type_Stone',\n",
    " 'mas_vnr_area',\n",
    " 'bsmtfin_sf_1',# to remove - strongly correlate with multiple variables\n",
    " 'bsmtfin_sf_2', #to remove strongly correlate with bath\n",
    " ###'bsmt_unf_sf',\n",
    " 'total_bsmt_sf', \n",
    " '1st_flr_sf', # to remove- strongly correlate total bsmt square feet\n",
    " '2nd_flr_sf',# to remove- strongly correlate total bsmt square feet\n",
    " 'low_qual_fin_sf',\n",
    " 'gr_liv_area', # to remove- strongly correlate totalrm abv grade\n",
    " ###'bsmt_full_bath',\n",
    " 'bsmt_half_bath',\n",
    " 'full_bath', # to remove - strongly correlate with multiple variables\n",
    " 'half_bath',\n",
    " 'bedroom_abvgr', # to remove- strongly correlate totalrm abv grade\n",
    " 'kitchen_abvgr',\n",
    " 'totrms_abvgrd', \n",
    " 'fireplaces',\n",
    " 'garage_yr_blt',\n",
    " 'garage_cars', \n",
    " 'garage_area', # to remove- strongly correlate with garage car\n",
    " ###'wood_deck_sf',\n",
    " ###'open_porch_sf',\n",
    " 'enclosed_porch',\n",
    " ##'3ssn_porch',\n",
    " 'screen_porch',\n",
    " ###'pool_area',\n",
    " ###'misc_val',\n",
    " ###'mo_sold',\n",
    " 'yr_sold','neighborhood_Blmngtn',\n",
    " ###'neighborhood_Blueste',\n",
    " ###'neighborhood_BrDale',\n",
    " ###'neighborhood_BrkSide',\n",
    " ###'neighborhood_ClearCr',\n",
    " 'neighborhood_CollgCr',\n",
    " 'neighborhood_Crawfor',\n",
    " 'neighborhood_Edwards',\n",
    " 'neighborhood_Gilbert',\n",
    " ###'neighborhood_Greens',\n",
    " #'neighborhood_GrnHill',\n",
    " 'neighborhood_IDOTRR',\n",
    " #'neighborhood_Landmrk',\n",
    " 'neighborhood_MeadowV',\n",
    " 'neighborhood_Mitchel',\n",
    " 'neighborhood_NAmes',\n",
    " ###'neighborhood_NPkVill',\n",
    " 'neighborhood_NWAmes',\n",
    " 'neighborhood_NoRidge',\n",
    " 'neighborhood_NridgHt',\n",
    " 'neighborhood_OldTown',\n",
    " 'neighborhood_SWISU',\n",
    " 'neighborhood_Sawyer',\n",
    " 'neighborhood_SawyerW',\n",
    " 'neighborhood_Somerst',\n",
    " 'neighborhood_StoneBr',\n",
    " 'neighborhood_Timber','bsmtfin_type_1_ALQ',\n",
    " 'bsmtfin_type_1_BLQ',\n",
    " ###'bsmtfin_type_1_GLQ',\n",
    " 'bsmtfin_type_1_LwQ',\n",
    " 'bsmtfin_type_1_Rec',\n",
    " 'exterior_1st_AsbShng',\n",
    " ###'exterior_1st_AsphShn',\n",
    " 'exterior_1st_BrkComm',\n",
    " 'exterior_1st_BrkFace',\n",
    " #'exterior_1st_CBlock',\n",
    " ###'exterior_1st_CemntBd',\n",
    " 'exterior_1st_HdBoard',\n",
    " #'exterior_1st_ImStucc',\n",
    " ##'exterior_1st_MetalSd',\n",
    " ###'exterior_1st_Plywood',\n",
    " #'exterior_1st_Stone',\n",
    " ###'exterior_1st_Stucco',\n",
    " ###'exterior_1st_VinylSd',\n",
    " 'exterior_1st_Wd Sdng',\n",
    " 'exterior_2nd_AsbShng',\n",
    " ###'exterior_2nd_AsphShn',\n",
    "##'exterior_2nd_Brk Cmn',\n",
    " 'exterior_2nd_BrkFace',\n",
    "# 'exterior_2nd_CBlock',\n",
    " ###'exterior_2nd_CmentBd',\n",
    " ###'exterior_2nd_HdBoard',\n",
    " 'exterior_2nd_ImStucc',\n",
    " 'exterior_2nd_MetalSd',\n",
    " 'exterior_2nd_Plywood',\n",
    " #'exterior_2nd_Stone',\n",
    " ###'exterior_2nd_Stucco',\n",
    " ###'exterior_2nd_VinylSd',\n",
    " ###'exterior_2nd_Wd Sdng',\n",
    "    'foundation_BrkTil',\n",
    " 'foundation_CBlock',\n",
    " ###'foundation_PConc',\n",
    " 'foundation_Slab',\n",
    " ###'foundation_Stone',\n",
    " 'garage_finish_Fin',\n",
    " 'garage_finish_None',\n",
    " 'garage_finish_RFn',\n",
    " 'garage_type_2Types',\n",
    "## 'garage_type_Attchd',\n",
    " 'garage_type_Basment',\n",
    " 'garage_type_BuiltIn',\n",
    " 'garage_type_CarPort',\n",
    " 'garage_type_Detchd',\n",
    " 'house_style_1.5Fin',\n",
    " 'house_style_1.5Unf',\n",
    " 'house_style_1Story',\n",
    " ###'house_style_2.5Fin',\n",
    " ###'house_style_2.5Unf',\n",
    " ##'house_style_2Story',\n",
    " 'house_style_SFoyer',\n",
    " 'lot_shape_IR1',\n",
    " ###'lot_shape_IR2',\n",
    " 'lot_shape_IR3',\n",
    " ###'basement_bath',\n",
    " 'total_bath',\n",
    " 'garage_size_percar',\n",
    " 'porch_sf',\n",
    " ###'rmsabovegrade',\n",
    " 'num_excellent',\n",
    " 'num_ex_gd',\n",
    " 'ms_subclass_20',\n",
    " ###'ms_subclass_30',\n",
    " ##'ms_subclass_40',\n",
    " 'ms_subclass_45',\n",
    " 'ms_subclass_50',\n",
    " 'ms_subclass_60',\n",
    " ###'ms_subclass_70',\n",
    " 'ms_subclass_75',\n",
    " ###'ms_subclass_80',\n",
    " ###'ms_subclass_85',\n",
    " ###'ms_subclass_90',\n",
    " 'ms_subclass_120',\n",
    "# 'ms_subclass_150',\n",
    " 'ms_subclass_160',\n",
    " 'ms_subclass_180',\n",
    "  \"bsmt_qual_Ex\",\n",
    "  \"exter_qual_Ex\",\n",
    " \"exter_cond_Ex\",\n",
    "\"heating_qc_Ex\",\n",
    "\"kitchen_qual_Ex\",\n",
    "##\"fireplace_qu_Ex\",\n",
    "\"garage_cond_Ex\",\n",
    " ##\"pool_qc_Ex\"\n",
    "]]"
   ]
  },
  {
   "cell_type": "code",
   "execution_count": null,
   "metadata": {},
   "outputs": [],
   "source": [
    "#Plot figsize\n",
    "fig, ax = plt.subplots(figsize=(30,30))  \n",
    "#Create Correlation \n",
    "corr = predictors_filtered.corr()\n",
    "#Mask to drop redundant corr.\n",
    "mask = np.zeros_like(corr)\n",
    "mask[np.triu_indices_from(mask)] = True\n",
    "#Generate Heat Map, allow annotations and place floats in map\n",
    "sns.heatmap(corr, mask=mask, square=True, annot=True, ax=ax,fmt=\".1f\",vmin=0.5, vmax=1.0)\n",
    "ax.set_title('Correlation',fontsize = 30)"
   ]
  },
  {
   "cell_type": "markdown",
   "metadata": {},
   "source": [
    " <a id=\"Modelling\"></a>"
   ]
  },
  {
   "cell_type": "markdown",
   "metadata": {},
   "source": [
    "## Modeling "
   ]
  },
  {
   "cell_type": "markdown",
   "metadata": {},
   "source": [
    "### Linear Regression with all predictors (excluding predictors with extremely skewed data)"
   ]
  },
  {
   "cell_type": "code",
   "execution_count": null,
   "metadata": {},
   "outputs": [],
   "source": [
    "# FIRST MODEL - with all predictors\n",
    "X = predictors_all\n",
    "y = train[\"saleprice\"]\n",
    "X = X.astype('float64')\n",
    "X_train, X_test, y_train, y_test = train_test_split(X, y, test_size=0.30, random_state=42)"
   ]
  },
  {
   "cell_type": "code",
   "execution_count": null,
   "metadata": {},
   "outputs": [],
   "source": [
    "scaler = StandardScaler()\n",
    "scaler = scaler.fit(X_train)\n",
    "Xs_train = scaler.transform(X_train)\n",
    "Xs_test = scaler.transform(X_test)"
   ]
  },
  {
   "cell_type": "code",
   "execution_count": null,
   "metadata": {},
   "outputs": [],
   "source": [
    "from sklearn.linear_model import LinearRegression\n",
    "from sklearn import linear_model\n",
    "lm = linear_model.LinearRegression() \n",
    "\n",
    "model_train = lm.fit(Xs_train, y_train)"
   ]
  },
  {
   "cell_type": "code",
   "execution_count": null,
   "metadata": {
    "scrolled": true
   },
   "outputs": [],
   "source": [
    "model_train.score(Xs_test, y_test)\n",
    "print (\"linear regression score with all predictors: {}\".format(model_train.score(Xs_test, y_test)))"
   ]
  },
  {
   "cell_type": "markdown",
   "metadata": {},
   "source": [
    "### Lasso Regression with all predictors  (excluding predictors with extremely skewed data)"
   ]
  },
  {
   "cell_type": "code",
   "execution_count": null,
   "metadata": {},
   "outputs": [],
   "source": [
    "model_lasso=Lasso(alpha = 0.00001, random_state=1)\n",
    "model_lasso.fit(Xs_train,y_train)\n",
    "model_lasso.score(Xs_train, y_train)\n",
    "\n",
    "print (\"Lasso Model Score with all predictors: {}\".format(model_lasso.score(Xs_test, y_test)))"
   ]
  },
  {
   "cell_type": "code",
   "execution_count": null,
   "metadata": {},
   "outputs": [],
   "source": [
    "from sklearn.metrics import mean_squared_error\n",
    "from math import sqrt\n",
    "y_predicted_all = model_lasso.predict(Xs_test)\n",
    "rms = sqrt(mean_squared_error(y_test, y_predicted_all))\n",
    "print (\"Lasso Residual Mean Square with all predictors: {}\".format(rms))"
   ]
  },
  {
   "cell_type": "markdown",
   "metadata": {},
   "source": [
    "### Ridge Regression with all predictors  (excluding predictors with extremely skewed data)"
   ]
  },
  {
   "cell_type": "code",
   "execution_count": null,
   "metadata": {},
   "outputs": [],
   "source": [
    "ridge_alphas = np.logspace(0, 5, 200)\n",
    "optimal_ridge = RidgeCV(alphas=ridge_alphas, cv=5)\n",
    "optimal_ridge = optimal_ridge.fit(Xs_train, y_train)\n",
    "\n",
    "ridge_optimal_alpha = optimal_ridge.alpha_\n",
    "print(ridge_optimal_alpha)"
   ]
  },
  {
   "cell_type": "code",
   "execution_count": null,
   "metadata": {},
   "outputs": [],
   "source": [
    "ridge_all = Ridge(alpha=ridge_optimal_alpha)\n",
    "ridge_all.fit(Xs_train, y_train)\n",
    "ridge_all.score(Xs_test, y_test)\n",
    "print (\"Ridge Model Score with all predictors: {}\".format(ridge_all.score(Xs_test, y_test)))\n",
    "\n",
    "ridge_all_features = X.columns\n",
    "coeff = list(zip(ridge_all.coef_, ridge_all_features))\n",
    "coeff_all_ridge = pd.DataFrame(coeff)\n",
    "\n",
    "coeff_csv = coeff_all_ridge.to_csv (r'..\\coeff_all_ridge.csv', index = None, header=True)"
   ]
  },
  {
   "cell_type": "code",
   "execution_count": null,
   "metadata": {},
   "outputs": [],
   "source": [
    "from sklearn.metrics import mean_squared_error\n",
    "from math import sqrt\n",
    "y_predicted_all = ridge_all.predict(Xs_test)\n",
    "rms = sqrt(mean_squared_error(y_test, y_predicted_all))\n",
    "print (\"Ridge Residual Mean Square with all predictors: {}\".format(rms))"
   ]
  },
  {
   "cell_type": "markdown",
   "metadata": {},
   "source": [
    "### Elastic Net with all predictors (excluding predictors with extremely skewed data)"
   ]
  },
  {
   "cell_type": "code",
   "execution_count": null,
   "metadata": {},
   "outputs": [],
   "source": [
    "enet_alphas = np.arange(0.5, 1.0, 0.005)\n",
    "enet_ratio = 0.5\n",
    "enet_model = ElasticNetCV(alphas=enet_alphas, l1_ratio=enet_ratio, cv=5)\n",
    "enet_model = enet_model.fit(Xs_train, y_train)\n",
    "print (\"Elastic Net Model Score with all predictors: {}\".format(enet_model.score(Xs_test,y_test)))"
   ]
  },
  {
   "cell_type": "code",
   "execution_count": null,
   "metadata": {},
   "outputs": [],
   "source": [
    "y_predicted_all = enet_model.predict(Xs_test)\n",
    "rms = sqrt(mean_squared_error(y_test, y_predicted_all))\n",
    "print (\"Elastic Residual Mean Square with all predictors: {}\".format(rms))"
   ]
  },
  {
   "cell_type": "code",
   "execution_count": null,
   "metadata": {},
   "outputs": [],
   "source": [
    "predictors_all_test = test[['lot_frontage',\n",
    " 'lot_area',\n",
    " 'overall_qual',  # to remove - strongly correlate with multiple variables\n",
    " 'overall_cond',\n",
    " 'year_built', # to remove - strongly correlate with overall qual\n",
    " 'year_remod/add', # to remove - strongly correlate with overall qual\n",
    " 'mas_vnr_type_BrkCmn',\n",
    " 'mas_vnr_type_BrkFace',\n",
    " 'mas_vnr_type_Stone',\n",
    " 'mas_vnr_area',\n",
    " 'bsmtfin_sf_1',# to remove - strongly correlate with multiple variables\n",
    " 'bsmtfin_sf_2', #to remove strongly correlate with bath\n",
    " ###'bsmt_unf_sf',\n",
    " 'total_bsmt_sf', \n",
    " '1st_flr_sf', # to remove- strongly correlate total bsmt square feet\n",
    " '2nd_flr_sf',# to remove- strongly correlate total bsmt square feet\n",
    " 'low_qual_fin_sf',\n",
    " 'gr_liv_area', # to remove- strongly correlate totalrm abv grade\n",
    " ###'bsmt_full_bath',\n",
    " 'bsmt_half_bath',\n",
    " 'full_bath', # to remove - strongly correlate with multiple variables\n",
    " 'half_bath',\n",
    " 'bedroom_abvgr', # to remove- strongly correlate totalrm abv grade\n",
    " 'kitchen_abvgr',\n",
    " 'totrms_abvgrd', \n",
    " 'fireplaces',\n",
    " 'garage_yr_blt',\n",
    " 'garage_cars', \n",
    " 'garage_area', # to remove- strongly correlate with garage car\n",
    " ###'wood_deck_sf',\n",
    " ###'open_porch_sf',\n",
    " 'enclosed_porch',\n",
    " ##'3ssn_porch',\n",
    " 'screen_porch',\n",
    " ###'pool_area',\n",
    " ###'misc_val',\n",
    " ###'mo_sold',\n",
    " 'yr_sold','neighborhood_Blmngtn',\n",
    " ###'neighborhood_Blueste',\n",
    " ###'neighborhood_BrDale',\n",
    " ###'neighborhood_BrkSide',\n",
    " ###'neighborhood_ClearCr',\n",
    " 'neighborhood_CollgCr',\n",
    " 'neighborhood_Crawfor',\n",
    " 'neighborhood_Edwards',\n",
    " 'neighborhood_Gilbert',\n",
    " ###'neighborhood_Greens',\n",
    " #'neighborhood_GrnHill',\n",
    " 'neighborhood_IDOTRR',\n",
    " #'neighborhood_Landmrk',\n",
    " 'neighborhood_MeadowV',\n",
    " 'neighborhood_Mitchel',\n",
    " 'neighborhood_NAmes',\n",
    " ###'neighborhood_NPkVill',\n",
    " 'neighborhood_NWAmes',\n",
    " 'neighborhood_NoRidge',\n",
    " 'neighborhood_NridgHt',\n",
    " 'neighborhood_OldTown',\n",
    " 'neighborhood_SWISU',\n",
    " 'neighborhood_Sawyer',\n",
    " 'neighborhood_SawyerW',\n",
    " 'neighborhood_Somerst',\n",
    " 'neighborhood_StoneBr',\n",
    " 'neighborhood_Timber','bsmtfin_type_1_ALQ',\n",
    " 'bsmtfin_type_1_BLQ',\n",
    " ###'bsmtfin_type_1_GLQ',\n",
    " 'bsmtfin_type_1_LwQ',\n",
    " 'bsmtfin_type_1_Rec',\n",
    " 'exterior_1st_AsbShng',\n",
    " ###'exterior_1st_AsphShn',\n",
    " 'exterior_1st_BrkComm',\n",
    " 'exterior_1st_BrkFace',\n",
    " #'exterior_1st_CBlock',\n",
    " ###'exterior_1st_CemntBd',\n",
    " 'exterior_1st_HdBoard',\n",
    " #'exterior_1st_ImStucc',\n",
    " ##'exterior_1st_MetalSd',\n",
    " ###'exterior_1st_Plywood',\n",
    " #'exterior_1st_Stone',\n",
    " ###'exterior_1st_Stucco',\n",
    " ###'exterior_1st_VinylSd',\n",
    " 'exterior_1st_Wd Sdng',\n",
    " 'exterior_2nd_AsbShng',\n",
    " ###'exterior_2nd_AsphShn',\n",
    "##'exterior_2nd_Brk Cmn',\n",
    " 'exterior_2nd_BrkFace',\n",
    "# 'exterior_2nd_CBlock',\n",
    " ###'exterior_2nd_CmentBd',\n",
    " ###'exterior_2nd_HdBoard',\n",
    " 'exterior_2nd_ImStucc',\n",
    " 'exterior_2nd_MetalSd',\n",
    " 'exterior_2nd_Plywood',\n",
    " #'exterior_2nd_Stone',\n",
    " ###'exterior_2nd_Stucco',\n",
    " ###'exterior_2nd_VinylSd',\n",
    " ###'exterior_2nd_Wd Sdng',\n",
    "    'foundation_BrkTil',\n",
    " 'foundation_CBlock',\n",
    " ###'foundation_PConc',\n",
    " 'foundation_Slab',\n",
    " ###'foundation_Stone',\n",
    " 'garage_finish_Fin',\n",
    " 'garage_finish_None',\n",
    " 'garage_finish_RFn',\n",
    " 'garage_type_2Types',\n",
    "## 'garage_type_Attchd',\n",
    " 'garage_type_Basment',\n",
    " 'garage_type_BuiltIn',\n",
    " 'garage_type_CarPort',\n",
    " 'garage_type_Detchd',\n",
    " 'house_style_1.5Fin',\n",
    " 'house_style_1.5Unf',\n",
    " 'house_style_1Story',\n",
    " ###'house_style_2.5Fin',\n",
    " ###'house_style_2.5Unf',\n",
    " ##'house_style_2Story',\n",
    " 'house_style_SFoyer',\n",
    " 'lot_shape_IR1',\n",
    " ###'lot_shape_IR2',\n",
    " 'lot_shape_IR3',\n",
    " ###'basement_bath',\n",
    " 'total_bath',\n",
    " 'garage_size_percar',\n",
    " 'porch_sf',\n",
    " ###'rmsabovegrade',\n",
    " 'num_excellent',\n",
    " 'num_ex_gd',\n",
    " 'ms_subclass_20',\n",
    " ###'ms_subclass_30',\n",
    " ##'ms_subclass_40',\n",
    " 'ms_subclass_45',\n",
    " 'ms_subclass_50',\n",
    " 'ms_subclass_60',\n",
    " ###'ms_subclass_70',\n",
    " 'ms_subclass_75',\n",
    " ###'ms_subclass_80',\n",
    " ###'ms_subclass_85',\n",
    " ###'ms_subclass_90',\n",
    " 'ms_subclass_120',\n",
    "# 'ms_subclass_150',\n",
    " 'ms_subclass_160',\n",
    " 'ms_subclass_180',\n",
    "  \"bsmt_qual_Ex\",\n",
    "  \"exter_qual_Ex\",\n",
    " \"exter_cond_Ex\",\n",
    "\"heating_qc_Ex\",\n",
    "\"kitchen_qual_Ex\",\n",
    "##\"fireplace_qu_Ex\",\n",
    "\"garage_cond_Ex\",\n",
    " ##\"pool_qc_Ex\"\n",
    "]]"
   ]
  },
  {
   "cell_type": "markdown",
   "metadata": {},
   "source": [
    "### Use ridge model (all predictors (excluding predictors with extremely skewed data) for Kaggle submission "
   ]
  },
  {
   "cell_type": "code",
   "execution_count": null,
   "metadata": {},
   "outputs": [],
   "source": [
    "predictors_all_test = predictors_all_test.astype('float64')\n",
    "predictors_all_test_T = scaler.transform(predictors_all_test)\n",
    "test[\"predictions_all\"] = ridge_all.predict(predictors_all_test_T)"
   ]
  },
  {
   "cell_type": "markdown",
   "metadata": {},
   "source": [
    "### Linear Regression with selected predictors"
   ]
  },
  {
   "cell_type": "code",
   "execution_count": null,
   "metadata": {},
   "outputs": [],
   "source": [
    "# Second MODEL - with selected predictors\n",
    "Xf = predictors_filtered\n",
    "Xf = Xf.astype('float64')\n",
    "Xf_train, Xf_test, y_train, y_test = train_test_split(Xf, y, test_size=0.30, random_state=42)"
   ]
  },
  {
   "cell_type": "code",
   "execution_count": null,
   "metadata": {},
   "outputs": [],
   "source": [
    "scaler = StandardScaler()\n",
    "scaler = scaler.fit(Xf_train)\n",
    "Xfs_train = scaler.transform(Xf_train)\n",
    "Xfs_test = scaler.transform(Xf_test)"
   ]
  },
  {
   "cell_type": "code",
   "execution_count": null,
   "metadata": {},
   "outputs": [],
   "source": [
    "from sklearn.linear_model import LinearRegression\n",
    "from sklearn import linear_model\n",
    "lm = linear_model.LinearRegression() \n",
    "\n",
    "modelf_train = lm.fit(Xfs_train, y_train)\n",
    "print (\"Linear regression score with selected predictors: {}\".format(modelf_train.score(Xfs_test,y_test)))\n"
   ]
  },
  {
   "cell_type": "markdown",
   "metadata": {},
   "source": [
    "### Lasso Regression with selected predictors"
   ]
  },
  {
   "cell_type": "code",
   "execution_count": null,
   "metadata": {},
   "outputs": [],
   "source": [
    "modelf_lasso=Lasso(alpha = 0.00001, random_state=1)\n",
    "modelf_lasso.fit(Xfs_train, y_train)\n",
    "modelf_lasso.score(Xfs_train, y_train)\n",
    "\n",
    "print (\"Lasso Model Score with selected predictors: {}\".format(modelf_lasso.score(Xfs_test, y_test)))"
   ]
  },
  {
   "cell_type": "markdown",
   "metadata": {},
   "source": [
    "### Ridge Regression with selected predictors"
   ]
  },
  {
   "cell_type": "code",
   "execution_count": null,
   "metadata": {},
   "outputs": [],
   "source": [
    "ridge_alphas = np.logspace(0, 5, 200)\n",
    "optimal_ridge_ = RidgeCV(alphas=ridge_alphas, cv=5)\n",
    "optimal_ridge_ = optimal_ridge_.fit(Xfs_train, y_train)\n",
    "\n",
    "ridge_optimal_alpha = optimal_ridge.alpha_\n",
    "print(ridge_optimal_alpha)"
   ]
  },
  {
   "cell_type": "code",
   "execution_count": null,
   "metadata": {},
   "outputs": [],
   "source": [
    "ridge = Ridge(alpha=ridge_optimal_alpha)\n",
    "ridge.fit(Xfs_train, y_train)\n",
    "ridge.score(Xfs_test, y_test)\n",
    "print (\"Ridge Model Score with selected predictors: {}\".format(ridge.score(Xfs_test, y_test)))"
   ]
  },
  {
   "cell_type": "code",
   "execution_count": null,
   "metadata": {},
   "outputs": [],
   "source": [
    "from sklearn.metrics import mean_squared_error\n",
    "from math import sqrt\n",
    "y_predicted_filtered = ridge.predict(Xfs_test)\n",
    "rms_filtered = sqrt(mean_squared_error(y_test, y_predicted_filtered))\n",
    "print (\"Ridge Residual Mean Square with selected predictors: {}\".format(rms_filtered))"
   ]
  },
  {
   "cell_type": "code",
   "execution_count": null,
   "metadata": {},
   "outputs": [],
   "source": [
    "predictors_filtered_test = test[['lot_frontage','lot_area',\n",
    " # 'overall_qual',  # to remove - strongly correlate with multiple variables ###\n",
    " 'overall_cond',\n",
    " #'year_built', # to remove - strongly correlate with overall qual  ###\n",
    " #'year_remod/add', # to remove - strongly correlate with overall qual  ###\n",
    " 'mas_vnr_type_BrkCmn',\n",
    " #'mas_vnr_type_BrkFace', ######\n",
    " 'mas_vnr_type_Stone',\n",
    " 'mas_vnr_area',\n",
    " #'bsmtfin_sf_1',# to remove - strongly correlate with multiple variables   ###\n",
    " #'bsmtfin_sf_2', #to remove strongly correlate with bath  ###\n",
    " 'bsmt_unf_sf',\n",
    " 'total_bsmt_sf', \n",
    " #'1st_flr_sf', # to remove- strongly correlate total bsmt square feet ####\n",
    " #'2nd_flr_sf',# to remove- strongly correlate total bsmt square feet ####\n",
    " 'low_qual_fin_sf',\n",
    " #'gr_liv_area', # to remove- strongly correlate totalrm abv grade  ###\n",
    " 'bsmt_full_bath',\n",
    " 'bsmt_half_bath',\n",
    " #'full_bath', # to remove - strongly correlate with multiple variables ####\n",
    " 'half_bath',\n",
    " #'bedroom_abvgr', # to remove- strongly correlate totalrm abv grade  ###\n",
    " ###'kitchen_abvgr',  ###\n",
    " 'totrms_abvgrd', \n",
    " 'fireplaces',\n",
    " 'garage_yr_blt',\n",
    " 'garage_cars', \n",
    " #'garage_area', # to remove- strongly correlate with garage car  ###\n",
    " 'wood_deck_sf',\n",
    " 'open_porch_sf',\n",
    " 'enclosed_porch',\n",
    " '3ssn_porch',\n",
    " 'screen_porch',\n",
    " 'pool_area',\n",
    " 'misc_val',\n",
    " 'mo_sold',\n",
    " 'yr_sold','neighborhood_Blmngtn',\n",
    " 'neighborhood_Blueste',\n",
    " 'neighborhood_BrDale',\n",
    " 'neighborhood_BrkSide',\n",
    " 'neighborhood_ClearCr',\n",
    " 'neighborhood_CollgCr',\n",
    " 'neighborhood_Crawfor',\n",
    " 'neighborhood_Edwards',\n",
    " 'neighborhood_Gilbert',\n",
    " 'neighborhood_Greens',\n",
    " #'neighborhood_GrnHill',\n",
    " 'neighborhood_IDOTRR',\n",
    " #'neighborhood_Landmrk',\n",
    " 'neighborhood_MeadowV',\n",
    " 'neighborhood_Mitchel',\n",
    " 'neighborhood_NAmes',\n",
    " 'neighborhood_NPkVill',\n",
    " 'neighborhood_NWAmes',\n",
    " 'neighborhood_NoRidge',\n",
    " 'neighborhood_NridgHt',\n",
    " 'neighborhood_OldTown',\n",
    " 'neighborhood_SWISU',\n",
    " 'neighborhood_Sawyer',\n",
    " 'neighborhood_SawyerW',\n",
    " 'neighborhood_Somerst',\n",
    " 'neighborhood_StoneBr',\n",
    " 'neighborhood_Timber','bsmtfin_type_1_ALQ',\n",
    " 'bsmtfin_type_1_BLQ',\n",
    " 'bsmtfin_type_1_GLQ',\n",
    " 'bsmtfin_type_1_LwQ',\n",
    " 'bsmtfin_type_1_Rec',\n",
    " #'exterior_1st_AsbShng',\n",
    " #'exterior_1st_AsphShn',\n",
    " 'exterior_1st_BrkComm',\n",
    " #'exterior_1st_BrkFace',\n",
    " #'exterior_1st_CBlock',\n",
    " #'exterior_1st_CemntBd',\n",
    " #'exterior_1st_HdBoard',\n",
    " #'exterior_1st_ImStucc',\n",
    " #'exterior_1st_MetalSd',\n",
    " #'exterior_1st_Plywood',\n",
    " #'exterior_1st_Stone',\n",
    " #'exterior_1st_Stucco',\n",
    " #'exterior_1st_VinylSd',\n",
    " #'exterior_1st_Wd Sdng',\n",
    " 'exterior_2nd_AsbShng',\n",
    " 'exterior_2nd_AsphShn',\n",
    " #'exterior_2nd_Brk Cmn',\n",
    " 'exterior_2nd_BrkFace',\n",
    " 'exterior_2nd_CBlock',\n",
    " 'exterior_2nd_CmentBd',\n",
    " 'exterior_2nd_HdBoard',\n",
    " 'exterior_2nd_ImStucc',\n",
    " 'exterior_2nd_MetalSd',\n",
    " 'exterior_2nd_Plywood',\n",
    " #'exterior_2nd_Stone',\n",
    " 'exterior_2nd_Stucco',\n",
    " 'exterior_2nd_VinylSd',\n",
    " 'exterior_2nd_Wd Sdng','foundation_BrkTil',\n",
    " 'foundation_CBlock',\n",
    " #'foundation_PConc',\n",
    " 'foundation_Slab',\n",
    " 'foundation_Stone',\n",
    " 'garage_finish_Fin',\n",
    " 'garage_finish_None',\n",
    " 'garage_finish_RFn',\n",
    " 'garage_type_2Types',\n",
    " #'garage_type_Attchd', \n",
    " 'garage_type_Basment',\n",
    " 'garage_type_BuiltIn',\n",
    " 'garage_type_CarPort',\n",
    " 'garage_type_Detchd',\n",
    " #'house_style_1.5Fin', \n",
    " #'house_style_1.5Unf', \n",
    " #'house_style_1Story', \n",
    " #'house_style_2.5Fin', \n",
    " #'house_style_2.5Unf',\n",
    " #'house_style_2Story',\n",
    " #'house_style_SFoyer',\n",
    " 'lot_shape_IR1',\n",
    " 'lot_shape_IR2',\n",
    " 'lot_shape_IR3',\n",
    " #'basement_bath',\n",
    " #'total_bath',  \n",
    " 'garage_size_percar',\n",
    " #'porch_sf',  \n",
    " #'rmsabovegrade', \n",
    " #'num_excellent', \n",
    " 'num_ex_gd',\n",
    " 'ms_subclass_20',\n",
    " 'ms_subclass_30',\n",
    " 'ms_subclass_40',\n",
    " 'ms_subclass_45',\n",
    " 'ms_subclass_50',\n",
    " 'ms_subclass_60',\n",
    " 'ms_subclass_70',\n",
    " 'ms_subclass_75',\n",
    " 'ms_subclass_80',\n",
    " 'ms_subclass_85',\n",
    " 'ms_subclass_90',\n",
    " 'ms_subclass_120',\n",
    "# 'ms_subclass_150', \n",
    " 'ms_subclass_160',\n",
    " 'ms_subclass_180',\"bsmt_qual_Ex\",\"exter_qual_Ex\",\"exter_cond_Ex\",\"heating_qc_Ex\",\"kitchen_qual_Ex\",\"fireplace_qu_Ex\",\"garage_cond_Ex\"]]"
   ]
  },
  {
   "cell_type": "markdown",
   "metadata": {},
   "source": [
    "### Use predicted data using ridge model (filtered variables)"
   ]
  },
  {
   "cell_type": "code",
   "execution_count": null,
   "metadata": {},
   "outputs": [],
   "source": [
    "predictors_filtered_test = predictors_filtered_test.astype(\"float64\")\n",
    "predictors_filtered_test_T = scaler.transform(predictors_filtered_test)\n",
    "test[\"predictions_filtered\"] = ridge.predict(predictors_filtered_test_T)"
   ]
  },
  {
   "cell_type": "code",
   "execution_count": null,
   "metadata": {},
   "outputs": [],
   "source": [
    "test.to_csv(r'./Prediction_10.csv')"
   ]
  },
  {
   "cell_type": "markdown",
   "metadata": {},
   "source": [
    " <a id=\"Conclusions-and-Recommendations\"></a>"
   ]
  },
  {
   "cell_type": "markdown",
   "metadata": {},
   "source": [
    "## Model Scores"
   ]
  },
  {
   "cell_type": "code",
   "execution_count": null,
   "metadata": {},
   "outputs": [],
   "source": [
    "print (\"linear regression score with all predictors: {}\".format(model_train.score(Xs_test, y_test)))\n",
    "print (\"Lasso Model Score with all predictors: {}\".format(model_lasso.score(Xs_test, y_test)))\n",
    "print (\"Ridge Model Score with all predictors: {}\".format(ridge_all.score(Xs_test, y_test)))\n",
    "print (\"Elastic Net Model Score with all predictors: {}\".format(enet_model.score(Xs_test,y_test)))\n",
    "\n",
    "print (\"Linear regression score with selected predictors: {}\".format(modelf_train.score(Xfs_test,y_test)))\n",
    "print (\"Lasso Model Score with selected predictors: {}\".format(modelf_lasso.score(Xfs_test, y_test)))\n",
    "print (\"Ridge Model Score with selected predictors: {}\".format(ridge.score(Xfs_test, y_test)))"
   ]
  }
 ],
 "metadata": {
  "kernelspec": {
   "display_name": "Python 3",
   "language": "python",
   "name": "python3"
  },
  "language_info": {
   "codemirror_mode": {
    "name": "ipython",
    "version": 3
   },
   "file_extension": ".py",
   "mimetype": "text/x-python",
   "name": "python",
   "nbconvert_exporter": "python",
   "pygments_lexer": "ipython3",
   "version": "3.7.1"
  }
 },
 "nbformat": 4,
 "nbformat_minor": 2
}
